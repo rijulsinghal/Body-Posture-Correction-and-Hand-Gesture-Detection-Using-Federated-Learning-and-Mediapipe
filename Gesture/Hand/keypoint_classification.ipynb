{
  "cells": [
    {
      "cell_type": "code",
      "execution_count": 1,
      "metadata": {
        "id": "igMyGnjE9hEp"
      },
      "outputs": [],
      "source": [
        "import csv\n",
        "\n",
        "import numpy as np\n",
        "import tensorflow as tf\n",
        "from sklearn.model_selection import train_test_split\n",
        "\n",
        "RANDOM_SEED = 42"
      ]
    },
    {
      "cell_type": "markdown",
      "metadata": {
        "id": "t2HDvhIu9hEr"
      },
      "source": [
        "# Specify each path"
      ]
    },
    {
      "cell_type": "code",
      "execution_count": 2,
      "metadata": {
        "id": "9NvZP2Zn9hEy"
      },
      "outputs": [],
      "source": [
        "dataset = 'model/keypoint_classifier/keypoint.csv'\n",
        "model_save_path = 'model/keypoint_classifier/keypoint_classifier.hdf5'\n",
        "tflite_save_path = 'model/keypoint_classifier/keypoint_classifier.tflite'"
      ]
    },
    {
      "cell_type": "markdown",
      "metadata": {
        "id": "s5oMH7x19hEz"
      },
      "source": [
        "# Set number of classes"
      ]
    },
    {
      "cell_type": "code",
      "execution_count": 3,
      "metadata": {
        "id": "du4kodXL9hEz"
      },
      "outputs": [],
      "source": [
        "NUM_CLASSES = 5"
      ]
    },
    {
      "cell_type": "markdown",
      "metadata": {
        "id": "XjnL0uso9hEz"
      },
      "source": [
        "# Dataset reading"
      ]
    },
    {
      "cell_type": "code",
      "execution_count": 4,
      "metadata": {
        "id": "QT5ZqtEz9hE0"
      },
      "outputs": [],
      "source": [
        "X_dataset = np.loadtxt(dataset, delimiter=',', dtype='float32', usecols=list(range(1, (21 * 2) + 1)))"
      ]
    },
    {
      "cell_type": "code",
      "execution_count": 5,
      "metadata": {
        "id": "QmoKFsp49hE0"
      },
      "outputs": [],
      "source": [
        "y_dataset = np.loadtxt(dataset, delimiter=',', dtype='int32', usecols=(0))"
      ]
    },
    {
      "cell_type": "code",
      "execution_count": 6,
      "metadata": {
        "id": "xQU7JTZ_9hE0"
      },
      "outputs": [],
      "source": [
        "X_train, X_test, y_train, y_test = train_test_split(X_dataset, y_dataset, train_size=0.75, random_state=RANDOM_SEED)"
      ]
    },
    {
      "cell_type": "markdown",
      "metadata": {
        "id": "mxK_lETT9hE0"
      },
      "source": [
        "# Model building"
      ]
    },
    {
      "cell_type": "code",
      "execution_count": 7,
      "metadata": {
        "id": "vHBmUf1t9hE1"
      },
      "outputs": [],
      "source": [
        "model = tf.keras.models.Sequential([\n",
        "    tf.keras.layers.Input((21 * 2, )),\n",
        "    tf.keras.layers.Dropout(0.2),\n",
        "    tf.keras.layers.Dense(20, activation='relu'),\n",
        "    tf.keras.layers.Dropout(0.4),\n",
        "    tf.keras.layers.Dense(10, activation='relu'),\n",
        "    tf.keras.layers.Dense(NUM_CLASSES, activation='softmax')\n",
        "])"
      ]
    },
    {
      "cell_type": "code",
      "execution_count": 8,
      "metadata": {
        "colab": {
          "base_uri": "https://localhost:8080/"
        },
        "id": "ypqky9tc9hE1",
        "outputId": "5db082bb-30e3-4110-bf63-a1ee777ecd46"
      },
      "outputs": [
        {
          "name": "stdout",
          "output_type": "stream",
          "text": [
            "Model: \"sequential\"\n",
            "_________________________________________________________________\n",
            " Layer (type)                Output Shape              Param #   \n",
            "=================================================================\n",
            " dropout (Dropout)           (None, 42)                0         \n",
            "                                                                 \n",
            " dense (Dense)               (None, 20)                860       \n",
            "                                                                 \n",
            " dropout_1 (Dropout)         (None, 20)                0         \n",
            "                                                                 \n",
            " dense_1 (Dense)             (None, 10)                210       \n",
            "                                                                 \n",
            " dense_2 (Dense)             (None, 5)                 55        \n",
            "                                                                 \n",
            "=================================================================\n",
            "Total params: 1,125\n",
            "Trainable params: 1,125\n",
            "Non-trainable params: 0\n",
            "_________________________________________________________________\n"
          ]
        }
      ],
      "source": [
        "model.summary()  # tf.keras.utils.plot_model(model, show_shapes=True)"
      ]
    },
    {
      "cell_type": "code",
      "execution_count": 9,
      "metadata": {
        "id": "MbMjOflQ9hE1"
      },
      "outputs": [],
      "source": [
        "# Model checkpoint callback\n",
        "cp_callback = tf.keras.callbacks.ModelCheckpoint(\n",
        "    model_save_path, verbose=1, save_weights_only=False)\n",
        "# Callback for early stopping\n",
        "es_callback = tf.keras.callbacks.EarlyStopping(patience=20, verbose=1)"
      ]
    },
    {
      "cell_type": "code",
      "execution_count": 10,
      "metadata": {
        "id": "c3Dac0M_9hE2"
      },
      "outputs": [],
      "source": [
        "# Model compilation\n",
        "model.compile(\n",
        "    optimizer='adam',\n",
        "    loss='sparse_categorical_crossentropy',\n",
        "    metrics=['accuracy']\n",
        ")"
      ]
    },
    {
      "cell_type": "markdown",
      "metadata": {
        "id": "7XI0j1Iu9hE2"
      },
      "source": [
        "# Model training"
      ]
    },
    {
      "cell_type": "code",
      "execution_count": 11,
      "metadata": {
        "colab": {
          "base_uri": "https://localhost:8080/"
        },
        "id": "WirBl-JE9hE3",
        "outputId": "71b30ca2-8294-4d9d-8aa2-800d90d399de",
        "scrolled": true
      },
      "outputs": [
        {
          "name": "stdout",
          "output_type": "stream",
          "text": [
            "Epoch 1/1000\n",
            "28/29 [===========================>..] - ETA: 0s - loss: 1.3870 - accuracy: 0.3597 \n",
            "Epoch 1: saving model to model/keypoint_classifier\\keypoint_classifier.hdf5\n",
            "29/29 [==============================] - 1s 17ms/step - loss: 1.3869 - accuracy: 0.3601 - val_loss: 1.2804 - val_accuracy: 0.4562\n",
            "Epoch 2/1000\n",
            " 1/29 [>.............................] - ETA: 0s - loss: 1.3696 - accuracy: 0.3750\n",
            "Epoch 2: saving model to model/keypoint_classifier\\keypoint_classifier.hdf5\n",
            "29/29 [==============================] - 0s 7ms/step - loss: 1.3073 - accuracy: 0.3961 - val_loss: 1.2134 - val_accuracy: 0.5024\n",
            "Epoch 3/1000\n",
            " 1/29 [>.............................] - ETA: 0s - loss: 1.2930 - accuracy: 0.3906\n",
            "Epoch 3: saving model to model/keypoint_classifier\\keypoint_classifier.hdf5\n",
            "29/29 [==============================] - 0s 7ms/step - loss: 1.2554 - accuracy: 0.4202 - val_loss: 1.1589 - val_accuracy: 0.5455\n",
            "Epoch 4/1000\n",
            " 1/29 [>.............................] - ETA: 0s - loss: 1.3149 - accuracy: 0.4141\n",
            "Epoch 4: saving model to model/keypoint_classifier\\keypoint_classifier.hdf5\n",
            "29/29 [==============================] - 0s 7ms/step - loss: 1.2140 - accuracy: 0.4564 - val_loss: 1.0989 - val_accuracy: 0.6185\n",
            "Epoch 5/1000\n",
            "24/29 [=======================>......] - ETA: 0s - loss: 1.1555 - accuracy: 0.4967\n",
            "Epoch 5: saving model to model/keypoint_classifier\\keypoint_classifier.hdf5\n",
            "29/29 [==============================] - 0s 7ms/step - loss: 1.1595 - accuracy: 0.4924 - val_loss: 1.0421 - val_accuracy: 0.6623\n",
            "Epoch 6/1000\n",
            " 1/29 [>.............................] - ETA: 0s - loss: 1.2353 - accuracy: 0.4922\n",
            "Epoch 6: saving model to model/keypoint_classifier\\keypoint_classifier.hdf5\n",
            "29/29 [==============================] - 0s 7ms/step - loss: 1.1262 - accuracy: 0.5127 - val_loss: 0.9813 - val_accuracy: 0.6851\n",
            "Epoch 7/1000\n",
            " 1/29 [>.............................] - ETA: 0s - loss: 1.1677 - accuracy: 0.4375\n",
            "Epoch 7: saving model to model/keypoint_classifier\\keypoint_classifier.hdf5\n",
            "29/29 [==============================] - 0s 8ms/step - loss: 1.1082 - accuracy: 0.5170 - val_loss: 0.9278 - val_accuracy: 0.7216\n",
            "Epoch 8/1000\n",
            " 1/29 [>.............................] - ETA: 0s - loss: 1.1402 - accuracy: 0.5391\n",
            "Epoch 8: saving model to model/keypoint_classifier\\keypoint_classifier.hdf5\n",
            "29/29 [==============================] - 0s 7ms/step - loss: 1.0347 - accuracy: 0.5555 - val_loss: 0.8735 - val_accuracy: 0.7695\n",
            "Epoch 9/1000\n",
            " 1/29 [>.............................] - ETA: 0s - loss: 0.9687 - accuracy: 0.6172\n",
            "Epoch 9: saving model to model/keypoint_classifier\\keypoint_classifier.hdf5\n",
            "29/29 [==============================] - 0s 7ms/step - loss: 1.0204 - accuracy: 0.5625 - val_loss: 0.8277 - val_accuracy: 0.7841\n",
            "Epoch 10/1000\n",
            " 1/29 [>.............................] - ETA: 0s - loss: 0.9663 - accuracy: 0.5938\n",
            "Epoch 10: saving model to model/keypoint_classifier\\keypoint_classifier.hdf5\n",
            "29/29 [==============================] - 0s 7ms/step - loss: 0.9843 - accuracy: 0.5690 - val_loss: 0.7892 - val_accuracy: 0.7792\n",
            "Epoch 11/1000\n",
            " 1/29 [>.............................] - ETA: 0s - loss: 0.9182 - accuracy: 0.6172\n",
            "Epoch 11: saving model to model/keypoint_classifier\\keypoint_classifier.hdf5\n",
            "29/29 [==============================] - 0s 8ms/step - loss: 0.9997 - accuracy: 0.5685 - val_loss: 0.7618 - val_accuracy: 0.8028\n",
            "Epoch 12/1000\n",
            " 1/29 [>.............................] - ETA: 0s - loss: 0.9535 - accuracy: 0.6016\n",
            "Epoch 12: saving model to model/keypoint_classifier\\keypoint_classifier.hdf5\n",
            "29/29 [==============================] - 0s 7ms/step - loss: 0.9453 - accuracy: 0.6128 - val_loss: 0.7263 - val_accuracy: 0.7955\n",
            "Epoch 13/1000\n",
            " 1/29 [>.............................] - ETA: 0s - loss: 0.8578 - accuracy: 0.6094\n",
            "Epoch 13: saving model to model/keypoint_classifier\\keypoint_classifier.hdf5\n",
            "29/29 [==============================] - 0s 7ms/step - loss: 0.9110 - accuracy: 0.6190 - val_loss: 0.6928 - val_accuracy: 0.8157\n",
            "Epoch 14/1000\n",
            " 1/29 [>.............................] - ETA: 0s - loss: 0.8990 - accuracy: 0.6172\n",
            "Epoch 14: saving model to model/keypoint_classifier\\keypoint_classifier.hdf5\n",
            "29/29 [==============================] - 0s 7ms/step - loss: 0.9077 - accuracy: 0.6196 - val_loss: 0.6696 - val_accuracy: 0.8190\n",
            "Epoch 15/1000\n",
            " 1/29 [>.............................] - ETA: 0s - loss: 0.9138 - accuracy: 0.5312\n",
            "Epoch 15: saving model to model/keypoint_classifier\\keypoint_classifier.hdf5\n",
            "29/29 [==============================] - 0s 7ms/step - loss: 0.8994 - accuracy: 0.6201 - val_loss: 0.6406 - val_accuracy: 0.8190\n",
            "Epoch 16/1000\n",
            " 1/29 [>.............................] - ETA: 0s - loss: 0.9247 - accuracy: 0.6562\n",
            "Epoch 16: saving model to model/keypoint_classifier\\keypoint_classifier.hdf5\n",
            "29/29 [==============================] - 0s 7ms/step - loss: 0.8840 - accuracy: 0.6345 - val_loss: 0.6210 - val_accuracy: 0.8425\n",
            "Epoch 17/1000\n",
            "25/29 [========================>.....] - ETA: 0s - loss: 0.8601 - accuracy: 0.6494\n",
            "Epoch 17: saving model to model/keypoint_classifier\\keypoint_classifier.hdf5\n",
            "29/29 [==============================] - 0s 8ms/step - loss: 0.8573 - accuracy: 0.6494 - val_loss: 0.6011 - val_accuracy: 0.8531\n",
            "Epoch 18/1000\n",
            " 1/29 [>.............................] - ETA: 0s - loss: 1.0416 - accuracy: 0.6484\n",
            "Epoch 18: saving model to model/keypoint_classifier\\keypoint_classifier.hdf5\n",
            "29/29 [==============================] - 0s 7ms/step - loss: 0.8538 - accuracy: 0.6518 - val_loss: 0.5832 - val_accuracy: 0.8588\n",
            "Epoch 19/1000\n",
            "28/29 [===========================>..] - ETA: 0s - loss: 0.8324 - accuracy: 0.6646\n",
            "Epoch 19: saving model to model/keypoint_classifier\\keypoint_classifier.hdf5\n",
            "29/29 [==============================] - 0s 7ms/step - loss: 0.8339 - accuracy: 0.6631 - val_loss: 0.5659 - val_accuracy: 0.8653\n",
            "Epoch 20/1000\n",
            "28/29 [===========================>..] - ETA: 0s - loss: 0.8383 - accuracy: 0.6521\n",
            "Epoch 20: saving model to model/keypoint_classifier\\keypoint_classifier.hdf5\n",
            "29/29 [==============================] - 0s 8ms/step - loss: 0.8373 - accuracy: 0.6537 - val_loss: 0.5533 - val_accuracy: 0.8815\n",
            "Epoch 21/1000\n",
            " 1/29 [>.............................] - ETA: 0s - loss: 0.8027 - accuracy: 0.6797\n",
            "Epoch 21: saving model to model/keypoint_classifier\\keypoint_classifier.hdf5\n",
            "29/29 [==============================] - 0s 7ms/step - loss: 0.7902 - accuracy: 0.6707 - val_loss: 0.5282 - val_accuracy: 0.8815\n",
            "Epoch 22/1000\n",
            " 1/29 [>.............................] - ETA: 0s - loss: 0.7648 - accuracy: 0.6562\n",
            "Epoch 22: saving model to model/keypoint_classifier\\keypoint_classifier.hdf5\n",
            "29/29 [==============================] - 0s 7ms/step - loss: 0.7942 - accuracy: 0.6856 - val_loss: 0.5157 - val_accuracy: 0.8920\n",
            "Epoch 23/1000\n",
            " 1/29 [>.............................] - ETA: 0s - loss: 0.8232 - accuracy: 0.7031\n",
            "Epoch 23: saving model to model/keypoint_classifier\\keypoint_classifier.hdf5\n",
            "29/29 [==============================] - 0s 7ms/step - loss: 0.7989 - accuracy: 0.6734 - val_loss: 0.5076 - val_accuracy: 0.8945\n",
            "Epoch 24/1000\n",
            " 1/29 [>.............................] - ETA: 0s - loss: 0.7837 - accuracy: 0.6328\n",
            "Epoch 24: saving model to model/keypoint_classifier\\keypoint_classifier.hdf5\n",
            "29/29 [==============================] - 0s 7ms/step - loss: 0.7759 - accuracy: 0.6872 - val_loss: 0.4940 - val_accuracy: 0.9026\n",
            "Epoch 25/1000\n",
            " 1/29 [>.............................] - ETA: 0s - loss: 0.7152 - accuracy: 0.7422\n",
            "Epoch 25: saving model to model/keypoint_classifier\\keypoint_classifier.hdf5\n",
            "29/29 [==============================] - 0s 7ms/step - loss: 0.7554 - accuracy: 0.7021 - val_loss: 0.4792 - val_accuracy: 0.9058\n",
            "Epoch 26/1000\n",
            " 1/29 [>.............................] - ETA: 0s - loss: 0.7303 - accuracy: 0.7266\n",
            "Epoch 26: saving model to model/keypoint_classifier\\keypoint_classifier.hdf5\n",
            "29/29 [==============================] - 0s 7ms/step - loss: 0.7525 - accuracy: 0.7073 - val_loss: 0.4662 - val_accuracy: 0.9164\n",
            "Epoch 27/1000\n",
            " 1/29 [>.............................] - ETA: 0s - loss: 0.7058 - accuracy: 0.7188\n",
            "Epoch 27: saving model to model/keypoint_classifier\\keypoint_classifier.hdf5\n",
            "29/29 [==============================] - 0s 7ms/step - loss: 0.7425 - accuracy: 0.7075 - val_loss: 0.4523 - val_accuracy: 0.9188\n",
            "Epoch 28/1000\n",
            " 1/29 [>.............................] - ETA: 0s - loss: 0.7960 - accuracy: 0.7031\n",
            "Epoch 28: saving model to model/keypoint_classifier\\keypoint_classifier.hdf5\n",
            "29/29 [==============================] - 0s 7ms/step - loss: 0.7374 - accuracy: 0.7110 - val_loss: 0.4464 - val_accuracy: 0.9131\n",
            "Epoch 29/1000\n",
            " 1/29 [>.............................] - ETA: 0s - loss: 0.7789 - accuracy: 0.6719\n",
            "Epoch 29: saving model to model/keypoint_classifier\\keypoint_classifier.hdf5\n",
            "29/29 [==============================] - 0s 7ms/step - loss: 0.7323 - accuracy: 0.7146 - val_loss: 0.4368 - val_accuracy: 0.9148\n",
            "Epoch 30/1000\n",
            " 1/29 [>.............................] - ETA: 0s - loss: 0.7919 - accuracy: 0.6328\n",
            "Epoch 30: saving model to model/keypoint_classifier\\keypoint_classifier.hdf5\n",
            "29/29 [==============================] - 0s 7ms/step - loss: 0.7286 - accuracy: 0.7108 - val_loss: 0.4356 - val_accuracy: 0.9164\n",
            "Epoch 31/1000\n",
            " 1/29 [>.............................] - ETA: 0s - loss: 0.6883 - accuracy: 0.7344\n",
            "Epoch 31: saving model to model/keypoint_classifier\\keypoint_classifier.hdf5\n",
            "29/29 [==============================] - 0s 8ms/step - loss: 0.7173 - accuracy: 0.7132 - val_loss: 0.4216 - val_accuracy: 0.9213\n",
            "Epoch 32/1000\n",
            "29/29 [==============================] - ETA: 0s - loss: 0.7325 - accuracy: 0.7073\n",
            "Epoch 32: saving model to model/keypoint_classifier\\keypoint_classifier.hdf5\n",
            "29/29 [==============================] - 0s 8ms/step - loss: 0.7325 - accuracy: 0.7073 - val_loss: 0.4195 - val_accuracy: 0.9196\n",
            "Epoch 33/1000\n",
            " 1/29 [>.............................] - ETA: 0s - loss: 0.7735 - accuracy: 0.7031\n",
            "Epoch 33: saving model to model/keypoint_classifier\\keypoint_classifier.hdf5\n",
            "29/29 [==============================] - 0s 7ms/step - loss: 0.6937 - accuracy: 0.7316 - val_loss: 0.4096 - val_accuracy: 0.9180\n",
            "Epoch 34/1000\n",
            " 1/29 [>.............................] - ETA: 0s - loss: 0.6902 - accuracy: 0.7188\n",
            "Epoch 34: saving model to model/keypoint_classifier\\keypoint_classifier.hdf5\n",
            "29/29 [==============================] - 0s 7ms/step - loss: 0.6899 - accuracy: 0.7229 - val_loss: 0.4023 - val_accuracy: 0.9172\n",
            "Epoch 35/1000\n",
            " 1/29 [>.............................] - ETA: 0s - loss: 0.6855 - accuracy: 0.7578\n",
            "Epoch 35: saving model to model/keypoint_classifier\\keypoint_classifier.hdf5\n",
            "29/29 [==============================] - 0s 7ms/step - loss: 0.6938 - accuracy: 0.7378 - val_loss: 0.3943 - val_accuracy: 0.9261\n",
            "Epoch 36/1000\n",
            " 1/29 [>.............................] - ETA: 0s - loss: 0.7619 - accuracy: 0.7109\n",
            "Epoch 36: saving model to model/keypoint_classifier\\keypoint_classifier.hdf5\n",
            "29/29 [==============================] - 0s 7ms/step - loss: 0.6815 - accuracy: 0.7386 - val_loss: 0.3923 - val_accuracy: 0.9196\n",
            "Epoch 37/1000\n",
            " 1/29 [>.............................] - ETA: 0s - loss: 0.6489 - accuracy: 0.7266\n",
            "Epoch 37: saving model to model/keypoint_classifier\\keypoint_classifier.hdf5\n",
            "29/29 [==============================] - 0s 6ms/step - loss: 0.6829 - accuracy: 0.7381 - val_loss: 0.3877 - val_accuracy: 0.9213\n",
            "Epoch 38/1000\n",
            " 1/29 [>.............................] - ETA: 0s - loss: 0.6978 - accuracy: 0.7344\n",
            "Epoch 38: saving model to model/keypoint_classifier\\keypoint_classifier.hdf5\n",
            "29/29 [==============================] - 0s 7ms/step - loss: 0.6821 - accuracy: 0.7346 - val_loss: 0.3812 - val_accuracy: 0.9286\n",
            "Epoch 39/1000\n",
            " 1/29 [>.............................] - ETA: 0s - loss: 0.5786 - accuracy: 0.7734\n",
            "Epoch 39: saving model to model/keypoint_classifier\\keypoint_classifier.hdf5\n",
            "29/29 [==============================] - 0s 7ms/step - loss: 0.6773 - accuracy: 0.7373 - val_loss: 0.3802 - val_accuracy: 0.9205\n",
            "Epoch 40/1000\n",
            " 1/29 [>.............................] - ETA: 0s - loss: 0.5908 - accuracy: 0.7656\n",
            "Epoch 40: saving model to model/keypoint_classifier\\keypoint_classifier.hdf5\n",
            "29/29 [==============================] - 0s 7ms/step - loss: 0.6737 - accuracy: 0.7394 - val_loss: 0.3738 - val_accuracy: 0.9269\n",
            "Epoch 41/1000\n",
            " 1/29 [>.............................] - ETA: 0s - loss: 0.7968 - accuracy: 0.7188\n",
            "Epoch 41: saving model to model/keypoint_classifier\\keypoint_classifier.hdf5\n",
            "29/29 [==============================] - 0s 7ms/step - loss: 0.6822 - accuracy: 0.7389 - val_loss: 0.3722 - val_accuracy: 0.9269\n",
            "Epoch 42/1000\n",
            " 1/29 [>.............................] - ETA: 0s - loss: 0.6115 - accuracy: 0.8125\n",
            "Epoch 42: saving model to model/keypoint_classifier\\keypoint_classifier.hdf5\n",
            "29/29 [==============================] - 0s 7ms/step - loss: 0.6425 - accuracy: 0.7546 - val_loss: 0.3629 - val_accuracy: 0.9253\n",
            "Epoch 43/1000\n",
            "29/29 [==============================] - ETA: 0s - loss: 0.6586 - accuracy: 0.7505\n",
            "Epoch 43: saving model to model/keypoint_classifier\\keypoint_classifier.hdf5\n",
            "29/29 [==============================] - 0s 7ms/step - loss: 0.6586 - accuracy: 0.7505 - val_loss: 0.3642 - val_accuracy: 0.9286\n",
            "Epoch 44/1000\n",
            "29/29 [==============================] - ETA: 0s - loss: 0.6603 - accuracy: 0.7497\n",
            "Epoch 44: saving model to model/keypoint_classifier\\keypoint_classifier.hdf5\n",
            "29/29 [==============================] - 0s 7ms/step - loss: 0.6603 - accuracy: 0.7497 - val_loss: 0.3561 - val_accuracy: 0.9245\n",
            "Epoch 45/1000\n",
            " 1/29 [>.............................] - ETA: 0s - loss: 0.6790 - accuracy: 0.7578\n",
            "Epoch 45: saving model to model/keypoint_classifier\\keypoint_classifier.hdf5\n",
            "29/29 [==============================] - 0s 7ms/step - loss: 0.6809 - accuracy: 0.7321 - val_loss: 0.3566 - val_accuracy: 0.9269\n",
            "Epoch 46/1000\n",
            " 1/29 [>.............................] - ETA: 0s - loss: 0.7066 - accuracy: 0.7734\n",
            "Epoch 46: saving model to model/keypoint_classifier\\keypoint_classifier.hdf5\n",
            "29/29 [==============================] - 0s 7ms/step - loss: 0.6577 - accuracy: 0.7532 - val_loss: 0.3529 - val_accuracy: 0.9302\n",
            "Epoch 47/1000\n",
            " 1/29 [>.............................] - ETA: 0s - loss: 0.5565 - accuracy: 0.7812\n",
            "Epoch 47: saving model to model/keypoint_classifier\\keypoint_classifier.hdf5\n",
            "29/29 [==============================] - 0s 7ms/step - loss: 0.6503 - accuracy: 0.7543 - val_loss: 0.3524 - val_accuracy: 0.9237\n",
            "Epoch 48/1000\n",
            " 1/29 [>.............................] - ETA: 0s - loss: 0.6869 - accuracy: 0.7109\n",
            "Epoch 48: saving model to model/keypoint_classifier\\keypoint_classifier.hdf5\n",
            "29/29 [==============================] - 0s 7ms/step - loss: 0.6475 - accuracy: 0.7614 - val_loss: 0.3472 - val_accuracy: 0.9253\n",
            "Epoch 49/1000\n",
            " 1/29 [>.............................] - ETA: 0s - loss: 0.8100 - accuracy: 0.6797\n",
            "Epoch 49: saving model to model/keypoint_classifier\\keypoint_classifier.hdf5\n",
            "29/29 [==============================] - 0s 7ms/step - loss: 0.6429 - accuracy: 0.7568 - val_loss: 0.3485 - val_accuracy: 0.9278\n",
            "Epoch 50/1000\n",
            " 1/29 [>.............................] - ETA: 0s - loss: 0.6416 - accuracy: 0.7578\n",
            "Epoch 50: saving model to model/keypoint_classifier\\keypoint_classifier.hdf5\n",
            "29/29 [==============================] - 0s 7ms/step - loss: 0.6319 - accuracy: 0.7665 - val_loss: 0.3406 - val_accuracy: 0.9237\n",
            "Epoch 51/1000\n",
            " 1/29 [>.............................] - ETA: 0s - loss: 0.7141 - accuracy: 0.7500\n",
            "Epoch 51: saving model to model/keypoint_classifier\\keypoint_classifier.hdf5\n",
            "29/29 [==============================] - 0s 7ms/step - loss: 0.6251 - accuracy: 0.7633 - val_loss: 0.3313 - val_accuracy: 0.9261\n",
            "Epoch 52/1000\n",
            " 1/29 [>.............................] - ETA: 0s - loss: 0.6479 - accuracy: 0.7422\n",
            "Epoch 52: saving model to model/keypoint_classifier\\keypoint_classifier.hdf5\n",
            "29/29 [==============================] - 0s 7ms/step - loss: 0.6307 - accuracy: 0.7578 - val_loss: 0.3321 - val_accuracy: 0.9286\n",
            "Epoch 53/1000\n",
            " 1/29 [>.............................] - ETA: 0s - loss: 0.6219 - accuracy: 0.7656\n",
            "Epoch 53: saving model to model/keypoint_classifier\\keypoint_classifier.hdf5\n",
            "29/29 [==============================] - 0s 7ms/step - loss: 0.6403 - accuracy: 0.7584 - val_loss: 0.3324 - val_accuracy: 0.9302\n",
            "Epoch 54/1000\n",
            " 1/29 [>.............................] - ETA: 0s - loss: 0.7065 - accuracy: 0.7344\n",
            "Epoch 54: saving model to model/keypoint_classifier\\keypoint_classifier.hdf5\n",
            "29/29 [==============================] - 0s 7ms/step - loss: 0.6424 - accuracy: 0.7616 - val_loss: 0.3349 - val_accuracy: 0.9221\n",
            "Epoch 55/1000\n",
            " 1/29 [>.............................] - ETA: 0s - loss: 0.5850 - accuracy: 0.7969\n",
            "Epoch 55: saving model to model/keypoint_classifier\\keypoint_classifier.hdf5\n",
            "29/29 [==============================] - 0s 7ms/step - loss: 0.6395 - accuracy: 0.7570 - val_loss: 0.3341 - val_accuracy: 0.9245\n",
            "Epoch 56/1000\n",
            " 1/29 [>.............................] - ETA: 0s - loss: 0.6346 - accuracy: 0.7578\n",
            "Epoch 56: saving model to model/keypoint_classifier\\keypoint_classifier.hdf5\n",
            "29/29 [==============================] - 0s 6ms/step - loss: 0.6186 - accuracy: 0.7630 - val_loss: 0.3241 - val_accuracy: 0.9310\n",
            "Epoch 57/1000\n",
            " 1/29 [>.............................] - ETA: 0s - loss: 0.5668 - accuracy: 0.8281\n",
            "Epoch 57: saving model to model/keypoint_classifier\\keypoint_classifier.hdf5\n",
            "29/29 [==============================] - 0s 7ms/step - loss: 0.6339 - accuracy: 0.7608 - val_loss: 0.3308 - val_accuracy: 0.9286\n",
            "Epoch 58/1000\n",
            " 1/29 [>.............................] - ETA: 0s - loss: 0.5633 - accuracy: 0.8281\n",
            "Epoch 58: saving model to model/keypoint_classifier\\keypoint_classifier.hdf5\n",
            "29/29 [==============================] - 0s 7ms/step - loss: 0.6161 - accuracy: 0.7798 - val_loss: 0.3193 - val_accuracy: 0.9310\n",
            "Epoch 59/1000\n",
            " 1/29 [>.............................] - ETA: 0s - loss: 0.5789 - accuracy: 0.7344\n",
            "Epoch 59: saving model to model/keypoint_classifier\\keypoint_classifier.hdf5\n",
            "29/29 [==============================] - 0s 8ms/step - loss: 0.6246 - accuracy: 0.7557 - val_loss: 0.3212 - val_accuracy: 0.9318\n",
            "Epoch 60/1000\n",
            " 1/29 [>.............................] - ETA: 0s - loss: 0.5368 - accuracy: 0.8125\n",
            "Epoch 60: saving model to model/keypoint_classifier\\keypoint_classifier.hdf5\n",
            "29/29 [==============================] - 0s 7ms/step - loss: 0.6169 - accuracy: 0.7670 - val_loss: 0.3175 - val_accuracy: 0.9310\n",
            "Epoch 61/1000\n",
            " 1/29 [>.............................] - ETA: 0s - loss: 0.4617 - accuracy: 0.8438\n",
            "Epoch 61: saving model to model/keypoint_classifier\\keypoint_classifier.hdf5\n",
            "29/29 [==============================] - 0s 7ms/step - loss: 0.6118 - accuracy: 0.7662 - val_loss: 0.3168 - val_accuracy: 0.9302\n",
            "Epoch 62/1000\n",
            " 1/29 [>.............................] - ETA: 0s - loss: 0.5756 - accuracy: 0.7969\n",
            "Epoch 62: saving model to model/keypoint_classifier\\keypoint_classifier.hdf5\n",
            "29/29 [==============================] - 0s 7ms/step - loss: 0.6034 - accuracy: 0.7752 - val_loss: 0.3191 - val_accuracy: 0.9294\n",
            "Epoch 63/1000\n",
            " 1/29 [>.............................] - ETA: 0s - loss: 0.7076 - accuracy: 0.7422\n",
            "Epoch 63: saving model to model/keypoint_classifier\\keypoint_classifier.hdf5\n",
            "29/29 [==============================] - 0s 7ms/step - loss: 0.6337 - accuracy: 0.7549 - val_loss: 0.3204 - val_accuracy: 0.9310\n",
            "Epoch 64/1000\n",
            " 1/29 [>.............................] - ETA: 0s - loss: 0.5970 - accuracy: 0.8125\n",
            "Epoch 64: saving model to model/keypoint_classifier\\keypoint_classifier.hdf5\n",
            "29/29 [==============================] - 0s 7ms/step - loss: 0.6138 - accuracy: 0.7703 - val_loss: 0.3183 - val_accuracy: 0.9286\n",
            "Epoch 65/1000\n",
            " 1/29 [>.............................] - ETA: 0s - loss: 0.4670 - accuracy: 0.8203\n",
            "Epoch 65: saving model to model/keypoint_classifier\\keypoint_classifier.hdf5\n",
            "29/29 [==============================] - 0s 7ms/step - loss: 0.6072 - accuracy: 0.7754 - val_loss: 0.3132 - val_accuracy: 0.9334\n",
            "Epoch 66/1000\n",
            " 1/29 [>.............................] - ETA: 0s - loss: 0.5300 - accuracy: 0.8047\n",
            "Epoch 66: saving model to model/keypoint_classifier\\keypoint_classifier.hdf5\n",
            "29/29 [==============================] - 0s 7ms/step - loss: 0.6187 - accuracy: 0.7654 - val_loss: 0.3146 - val_accuracy: 0.9269\n",
            "Epoch 67/1000\n",
            " 1/29 [>.............................] - ETA: 0s - loss: 0.5511 - accuracy: 0.8203\n",
            "Epoch 67: saving model to model/keypoint_classifier\\keypoint_classifier.hdf5\n",
            "29/29 [==============================] - 0s 7ms/step - loss: 0.6111 - accuracy: 0.7706 - val_loss: 0.3130 - val_accuracy: 0.9310\n",
            "Epoch 68/1000\n",
            " 1/29 [>.............................] - ETA: 0s - loss: 0.6363 - accuracy: 0.7500\n",
            "Epoch 68: saving model to model/keypoint_classifier\\keypoint_classifier.hdf5\n",
            "29/29 [==============================] - 0s 7ms/step - loss: 0.6082 - accuracy: 0.7727 - val_loss: 0.3153 - val_accuracy: 0.9318\n",
            "Epoch 69/1000\n",
            " 1/29 [>.............................] - ETA: 0s - loss: 0.5837 - accuracy: 0.7891\n",
            "Epoch 69: saving model to model/keypoint_classifier\\keypoint_classifier.hdf5\n",
            "29/29 [==============================] - 0s 7ms/step - loss: 0.6052 - accuracy: 0.7776 - val_loss: 0.3109 - val_accuracy: 0.9310\n",
            "Epoch 70/1000\n",
            " 1/29 [>.............................] - ETA: 0s - loss: 0.5240 - accuracy: 0.8359\n",
            "Epoch 70: saving model to model/keypoint_classifier\\keypoint_classifier.hdf5\n",
            "29/29 [==============================] - 0s 7ms/step - loss: 0.6188 - accuracy: 0.7738 - val_loss: 0.3136 - val_accuracy: 0.9326\n",
            "Epoch 71/1000\n",
            "25/29 [========================>.....] - ETA: 0s - loss: 0.6094 - accuracy: 0.7678\n",
            "Epoch 71: saving model to model/keypoint_classifier\\keypoint_classifier.hdf5\n",
            "29/29 [==============================] - 0s 10ms/step - loss: 0.6103 - accuracy: 0.7643 - val_loss: 0.3051 - val_accuracy: 0.9367\n",
            "Epoch 72/1000\n",
            "26/29 [=========================>....] - ETA: 0s - loss: 0.6153 - accuracy: 0.7767\n",
            "Epoch 72: saving model to model/keypoint_classifier\\keypoint_classifier.hdf5\n",
            "29/29 [==============================] - 0s 8ms/step - loss: 0.6177 - accuracy: 0.7746 - val_loss: 0.3117 - val_accuracy: 0.9334\n",
            "Epoch 73/1000\n",
            "24/29 [=======================>......] - ETA: 0s - loss: 0.5997 - accuracy: 0.7721\n",
            "Epoch 73: saving model to model/keypoint_classifier\\keypoint_classifier.hdf5\n",
            "29/29 [==============================] - 0s 8ms/step - loss: 0.6129 - accuracy: 0.7698 - val_loss: 0.3044 - val_accuracy: 0.9310\n",
            "Epoch 74/1000\n",
            " 1/29 [>.............................] - ETA: 0s - loss: 0.5552 - accuracy: 0.8125\n",
            "Epoch 74: saving model to model/keypoint_classifier\\keypoint_classifier.hdf5\n",
            "29/29 [==============================] - 0s 7ms/step - loss: 0.5926 - accuracy: 0.7754 - val_loss: 0.3020 - val_accuracy: 0.9351\n",
            "Epoch 75/1000\n",
            "21/29 [====================>.........] - ETA: 0s - loss: 0.5996 - accuracy: 0.7876\n",
            "Epoch 75: saving model to model/keypoint_classifier\\keypoint_classifier.hdf5\n",
            "29/29 [==============================] - 0s 8ms/step - loss: 0.6135 - accuracy: 0.7798 - val_loss: 0.3077 - val_accuracy: 0.9343\n",
            "Epoch 76/1000\n",
            "27/29 [==========================>...] - ETA: 0s - loss: 0.5918 - accuracy: 0.7865\n",
            "Epoch 76: saving model to model/keypoint_classifier\\keypoint_classifier.hdf5\n",
            "29/29 [==============================] - 0s 8ms/step - loss: 0.5931 - accuracy: 0.7846 - val_loss: 0.3002 - val_accuracy: 0.9367\n",
            "Epoch 77/1000\n",
            "25/29 [========================>.....] - ETA: 0s - loss: 0.5835 - accuracy: 0.7866\n",
            "Epoch 77: saving model to model/keypoint_classifier\\keypoint_classifier.hdf5\n",
            "29/29 [==============================] - 0s 8ms/step - loss: 0.5827 - accuracy: 0.7865 - val_loss: 0.3068 - val_accuracy: 0.9326\n",
            "Epoch 78/1000\n",
            "25/29 [========================>.....] - ETA: 0s - loss: 0.6007 - accuracy: 0.7769\n",
            "Epoch 78: saving model to model/keypoint_classifier\\keypoint_classifier.hdf5\n",
            "29/29 [==============================] - 0s 8ms/step - loss: 0.6022 - accuracy: 0.7744 - val_loss: 0.3034 - val_accuracy: 0.9326\n",
            "Epoch 79/1000\n",
            " 1/29 [>.............................] - ETA: 0s - loss: 0.5693 - accuracy: 0.7969\n",
            "Epoch 79: saving model to model/keypoint_classifier\\keypoint_classifier.hdf5\n",
            "29/29 [==============================] - 0s 7ms/step - loss: 0.6028 - accuracy: 0.7733 - val_loss: 0.3008 - val_accuracy: 0.9367\n",
            "Epoch 80/1000\n",
            "23/29 [======================>.......] - ETA: 0s - loss: 0.5856 - accuracy: 0.7765\n",
            "Epoch 80: saving model to model/keypoint_classifier\\keypoint_classifier.hdf5\n",
            "29/29 [==============================] - 0s 8ms/step - loss: 0.5882 - accuracy: 0.7768 - val_loss: 0.3001 - val_accuracy: 0.9359\n",
            "Epoch 81/1000\n",
            " 1/29 [>.............................] - ETA: 0s - loss: 0.5628 - accuracy: 0.8281\n",
            "Epoch 81: saving model to model/keypoint_classifier\\keypoint_classifier.hdf5\n",
            "29/29 [==============================] - 0s 7ms/step - loss: 0.6100 - accuracy: 0.7722 - val_loss: 0.3012 - val_accuracy: 0.9351\n",
            "Epoch 82/1000\n",
            "26/29 [=========================>....] - ETA: 0s - loss: 0.5880 - accuracy: 0.7840\n",
            "Epoch 82: saving model to model/keypoint_classifier\\keypoint_classifier.hdf5\n",
            "29/29 [==============================] - 0s 8ms/step - loss: 0.5845 - accuracy: 0.7884 - val_loss: 0.3038 - val_accuracy: 0.9294\n",
            "Epoch 83/1000\n",
            "22/29 [=====================>........] - ETA: 0s - loss: 0.6033 - accuracy: 0.7741\n",
            "Epoch 83: saving model to model/keypoint_classifier\\keypoint_classifier.hdf5\n",
            "29/29 [==============================] - 0s 8ms/step - loss: 0.6064 - accuracy: 0.7744 - val_loss: 0.3032 - val_accuracy: 0.9351\n",
            "Epoch 84/1000\n",
            " 1/29 [>.............................] - ETA: 0s - loss: 0.6910 - accuracy: 0.7266\n",
            "Epoch 84: saving model to model/keypoint_classifier\\keypoint_classifier.hdf5\n",
            "29/29 [==============================] - 0s 7ms/step - loss: 0.5976 - accuracy: 0.7781 - val_loss: 0.3001 - val_accuracy: 0.9375\n",
            "Epoch 85/1000\n",
            "23/29 [======================>.......] - ETA: 0s - loss: 0.5959 - accuracy: 0.7806\n",
            "Epoch 85: saving model to model/keypoint_classifier\\keypoint_classifier.hdf5\n",
            "29/29 [==============================] - 0s 8ms/step - loss: 0.6024 - accuracy: 0.7768 - val_loss: 0.2993 - val_accuracy: 0.9318\n",
            "Epoch 86/1000\n",
            "25/29 [========================>.....] - ETA: 0s - loss: 0.5878 - accuracy: 0.7878\n",
            "Epoch 86: saving model to model/keypoint_classifier\\keypoint_classifier.hdf5\n",
            "29/29 [==============================] - 0s 8ms/step - loss: 0.5902 - accuracy: 0.7822 - val_loss: 0.3010 - val_accuracy: 0.9302\n",
            "Epoch 87/1000\n",
            "24/29 [=======================>......] - ETA: 0s - loss: 0.5842 - accuracy: 0.7865\n",
            "Epoch 87: saving model to model/keypoint_classifier\\keypoint_classifier.hdf5\n",
            "29/29 [==============================] - 0s 8ms/step - loss: 0.5872 - accuracy: 0.7841 - val_loss: 0.2985 - val_accuracy: 0.9383\n",
            "Epoch 88/1000\n",
            "28/29 [===========================>..] - ETA: 0s - loss: 0.5903 - accuracy: 0.7801\n",
            "Epoch 88: saving model to model/keypoint_classifier\\keypoint_classifier.hdf5\n",
            "29/29 [==============================] - 0s 7ms/step - loss: 0.5900 - accuracy: 0.7795 - val_loss: 0.2933 - val_accuracy: 0.9399\n",
            "Epoch 89/1000\n",
            "29/29 [==============================] - ETA: 0s - loss: 0.5917 - accuracy: 0.7800\n",
            "Epoch 89: saving model to model/keypoint_classifier\\keypoint_classifier.hdf5\n",
            "29/29 [==============================] - 0s 8ms/step - loss: 0.5917 - accuracy: 0.7800 - val_loss: 0.2944 - val_accuracy: 0.9351\n",
            "Epoch 90/1000\n",
            "24/29 [=======================>......] - ETA: 0s - loss: 0.5873 - accuracy: 0.7809\n",
            "Epoch 90: saving model to model/keypoint_classifier\\keypoint_classifier.hdf5\n",
            "29/29 [==============================] - 0s 8ms/step - loss: 0.5845 - accuracy: 0.7833 - val_loss: 0.2955 - val_accuracy: 0.9351\n",
            "Epoch 91/1000\n",
            "23/29 [======================>.......] - ETA: 0s - loss: 0.5672 - accuracy: 0.7809\n",
            "Epoch 91: saving model to model/keypoint_classifier\\keypoint_classifier.hdf5\n",
            "29/29 [==============================] - 0s 8ms/step - loss: 0.5713 - accuracy: 0.7817 - val_loss: 0.2946 - val_accuracy: 0.9367\n",
            "Epoch 92/1000\n",
            "24/29 [=======================>......] - ETA: 0s - loss: 0.5801 - accuracy: 0.7839\n",
            "Epoch 92: saving model to model/keypoint_classifier\\keypoint_classifier.hdf5\n",
            "29/29 [==============================] - 0s 8ms/step - loss: 0.5791 - accuracy: 0.7835 - val_loss: 0.2926 - val_accuracy: 0.9367\n",
            "Epoch 93/1000\n",
            " 1/29 [>.............................] - ETA: 0s - loss: 0.7089 - accuracy: 0.6797\n",
            "Epoch 93: saving model to model/keypoint_classifier\\keypoint_classifier.hdf5\n",
            "29/29 [==============================] - 0s 7ms/step - loss: 0.5774 - accuracy: 0.7787 - val_loss: 0.2943 - val_accuracy: 0.9326\n",
            "Epoch 94/1000\n",
            "21/29 [====================>.........] - ETA: 0s - loss: 0.5533 - accuracy: 0.7969\n",
            "Epoch 94: saving model to model/keypoint_classifier\\keypoint_classifier.hdf5\n",
            "29/29 [==============================] - 0s 10ms/step - loss: 0.5531 - accuracy: 0.7949 - val_loss: 0.2914 - val_accuracy: 0.9359\n",
            "Epoch 95/1000\n",
            "25/29 [========================>.....] - ETA: 0s - loss: 0.5729 - accuracy: 0.7741\n",
            "Epoch 95: saving model to model/keypoint_classifier\\keypoint_classifier.hdf5\n",
            "29/29 [==============================] - 0s 8ms/step - loss: 0.5731 - accuracy: 0.7752 - val_loss: 0.2861 - val_accuracy: 0.9391\n",
            "Epoch 96/1000\n",
            "25/29 [========================>.....] - ETA: 0s - loss: 0.5710 - accuracy: 0.7856\n",
            "Epoch 96: saving model to model/keypoint_classifier\\keypoint_classifier.hdf5\n",
            "29/29 [==============================] - 0s 7ms/step - loss: 0.5735 - accuracy: 0.7863 - val_loss: 0.2916 - val_accuracy: 0.9318\n",
            "Epoch 97/1000\n",
            "22/29 [=====================>........] - ETA: 0s - loss: 0.6084 - accuracy: 0.7656\n",
            "Epoch 97: saving model to model/keypoint_classifier\\keypoint_classifier.hdf5\n",
            "29/29 [==============================] - 0s 8ms/step - loss: 0.6005 - accuracy: 0.7725 - val_loss: 0.2935 - val_accuracy: 0.9343\n",
            "Epoch 98/1000\n",
            "28/29 [===========================>..] - ETA: 0s - loss: 0.5746 - accuracy: 0.7771\n",
            "Epoch 98: saving model to model/keypoint_classifier\\keypoint_classifier.hdf5\n",
            "29/29 [==============================] - 0s 7ms/step - loss: 0.5755 - accuracy: 0.7776 - val_loss: 0.2922 - val_accuracy: 0.9351\n",
            "Epoch 99/1000\n",
            "25/29 [========================>.....] - ETA: 0s - loss: 0.5851 - accuracy: 0.7741\n",
            "Epoch 99: saving model to model/keypoint_classifier\\keypoint_classifier.hdf5\n",
            "29/29 [==============================] - 0s 8ms/step - loss: 0.5868 - accuracy: 0.7741 - val_loss: 0.2896 - val_accuracy: 0.9375\n",
            "Epoch 100/1000\n",
            "24/29 [=======================>......] - ETA: 0s - loss: 0.5774 - accuracy: 0.7848\n",
            "Epoch 100: saving model to model/keypoint_classifier\\keypoint_classifier.hdf5\n",
            "29/29 [==============================] - 0s 8ms/step - loss: 0.5649 - accuracy: 0.7914 - val_loss: 0.2840 - val_accuracy: 0.9416\n",
            "Epoch 101/1000\n",
            "28/29 [===========================>..] - ETA: 0s - loss: 0.5773 - accuracy: 0.7879\n",
            "Epoch 101: saving model to model/keypoint_classifier\\keypoint_classifier.hdf5\n",
            "29/29 [==============================] - 0s 7ms/step - loss: 0.5755 - accuracy: 0.7881 - val_loss: 0.2824 - val_accuracy: 0.9383\n",
            "Epoch 102/1000\n",
            " 1/29 [>.............................] - ETA: 0s - loss: 0.5031 - accuracy: 0.8672\n",
            "Epoch 102: saving model to model/keypoint_classifier\\keypoint_classifier.hdf5\n",
            "29/29 [==============================] - 0s 7ms/step - loss: 0.5683 - accuracy: 0.7930 - val_loss: 0.2887 - val_accuracy: 0.9375\n",
            "Epoch 103/1000\n",
            "26/29 [=========================>....] - ETA: 0s - loss: 0.5700 - accuracy: 0.7948\n",
            "Epoch 103: saving model to model/keypoint_classifier\\keypoint_classifier.hdf5\n",
            "29/29 [==============================] - 0s 8ms/step - loss: 0.5664 - accuracy: 0.7963 - val_loss: 0.2878 - val_accuracy: 0.9416\n",
            "Epoch 104/1000\n",
            " 1/29 [>.............................] - ETA: 0s - loss: 0.4651 - accuracy: 0.8516\n",
            "Epoch 104: saving model to model/keypoint_classifier\\keypoint_classifier.hdf5\n",
            "29/29 [==============================] - 0s 7ms/step - loss: 0.5612 - accuracy: 0.7927 - val_loss: 0.2836 - val_accuracy: 0.9367\n",
            "Epoch 105/1000\n",
            "27/29 [==========================>...] - ETA: 0s - loss: 0.5875 - accuracy: 0.7859\n",
            "Epoch 105: saving model to model/keypoint_classifier\\keypoint_classifier.hdf5\n",
            "29/29 [==============================] - 0s 8ms/step - loss: 0.5865 - accuracy: 0.7854 - val_loss: 0.2935 - val_accuracy: 0.9318\n",
            "Epoch 106/1000\n",
            " 1/29 [>.............................] - ETA: 0s - loss: 0.6026 - accuracy: 0.7812\n",
            "Epoch 106: saving model to model/keypoint_classifier\\keypoint_classifier.hdf5\n",
            "29/29 [==============================] - 0s 7ms/step - loss: 0.5763 - accuracy: 0.7868 - val_loss: 0.2871 - val_accuracy: 0.9375\n",
            "Epoch 107/1000\n",
            "29/29 [==============================] - ETA: 0s - loss: 0.5625 - accuracy: 0.8001\n",
            "Epoch 107: saving model to model/keypoint_classifier\\keypoint_classifier.hdf5\n",
            "29/29 [==============================] - 0s 8ms/step - loss: 0.5625 - accuracy: 0.8001 - val_loss: 0.2792 - val_accuracy: 0.9383\n",
            "Epoch 108/1000\n",
            " 1/29 [>.............................] - ETA: 0s - loss: 0.5581 - accuracy: 0.7891\n",
            "Epoch 108: saving model to model/keypoint_classifier\\keypoint_classifier.hdf5\n",
            "29/29 [==============================] - 0s 7ms/step - loss: 0.5738 - accuracy: 0.7887 - val_loss: 0.2847 - val_accuracy: 0.9334\n",
            "Epoch 109/1000\n",
            " 1/29 [>.............................] - ETA: 0s - loss: 0.4799 - accuracy: 0.8359\n",
            "Epoch 109: saving model to model/keypoint_classifier\\keypoint_classifier.hdf5\n",
            "29/29 [==============================] - 0s 8ms/step - loss: 0.5668 - accuracy: 0.7903 - val_loss: 0.2777 - val_accuracy: 0.9367\n",
            "Epoch 110/1000\n",
            " 1/29 [>.............................] - ETA: 0s - loss: 0.6389 - accuracy: 0.7500\n",
            "Epoch 110: saving model to model/keypoint_classifier\\keypoint_classifier.hdf5\n",
            "29/29 [==============================] - 0s 7ms/step - loss: 0.5689 - accuracy: 0.7971 - val_loss: 0.2801 - val_accuracy: 0.9399\n",
            "Epoch 111/1000\n",
            "24/29 [=======================>......] - ETA: 0s - loss: 0.5681 - accuracy: 0.7936\n",
            "Epoch 111: saving model to model/keypoint_classifier\\keypoint_classifier.hdf5\n",
            "29/29 [==============================] - 0s 8ms/step - loss: 0.5582 - accuracy: 0.7973 - val_loss: 0.2817 - val_accuracy: 0.9399\n",
            "Epoch 112/1000\n",
            " 1/29 [>.............................] - ETA: 0s - loss: 0.5055 - accuracy: 0.7969\n",
            "Epoch 112: saving model to model/keypoint_classifier\\keypoint_classifier.hdf5\n",
            "29/29 [==============================] - 0s 7ms/step - loss: 0.5664 - accuracy: 0.7876 - val_loss: 0.2810 - val_accuracy: 0.9383\n",
            "Epoch 113/1000\n",
            "29/29 [==============================] - ETA: 0s - loss: 0.5659 - accuracy: 0.7914\n",
            "Epoch 113: saving model to model/keypoint_classifier\\keypoint_classifier.hdf5\n",
            "29/29 [==============================] - 0s 7ms/step - loss: 0.5659 - accuracy: 0.7914 - val_loss: 0.2840 - val_accuracy: 0.9391\n",
            "Epoch 114/1000\n",
            " 1/29 [>.............................] - ETA: 0s - loss: 0.5669 - accuracy: 0.7734\n",
            "Epoch 114: saving model to model/keypoint_classifier\\keypoint_classifier.hdf5\n",
            "29/29 [==============================] - 0s 7ms/step - loss: 0.5708 - accuracy: 0.7854 - val_loss: 0.2806 - val_accuracy: 0.9416\n",
            "Epoch 115/1000\n",
            "28/29 [===========================>..] - ETA: 0s - loss: 0.5628 - accuracy: 0.7893\n",
            "Epoch 115: saving model to model/keypoint_classifier\\keypoint_classifier.hdf5\n",
            "29/29 [==============================] - 0s 8ms/step - loss: 0.5611 - accuracy: 0.7903 - val_loss: 0.2806 - val_accuracy: 0.9375\n",
            "Epoch 116/1000\n",
            "26/29 [=========================>....] - ETA: 0s - loss: 0.5787 - accuracy: 0.7855\n",
            "Epoch 116: saving model to model/keypoint_classifier\\keypoint_classifier.hdf5\n",
            "29/29 [==============================] - 0s 7ms/step - loss: 0.5788 - accuracy: 0.7854 - val_loss: 0.2824 - val_accuracy: 0.9391\n",
            "Epoch 117/1000\n",
            "28/29 [===========================>..] - ETA: 0s - loss: 0.5387 - accuracy: 0.8055\n",
            "Epoch 117: saving model to model/keypoint_classifier\\keypoint_classifier.hdf5\n",
            "29/29 [==============================] - 0s 8ms/step - loss: 0.5440 - accuracy: 0.8030 - val_loss: 0.2768 - val_accuracy: 0.9383\n",
            "Epoch 118/1000\n",
            "29/29 [==============================] - ETA: 0s - loss: 0.5571 - accuracy: 0.7944\n",
            "Epoch 118: saving model to model/keypoint_classifier\\keypoint_classifier.hdf5\n",
            "29/29 [==============================] - 0s 8ms/step - loss: 0.5571 - accuracy: 0.7944 - val_loss: 0.2723 - val_accuracy: 0.9448\n",
            "Epoch 119/1000\n",
            " 1/29 [>.............................] - ETA: 0s - loss: 0.5590 - accuracy: 0.7812\n",
            "Epoch 119: saving model to model/keypoint_classifier\\keypoint_classifier.hdf5\n",
            "29/29 [==============================] - 0s 8ms/step - loss: 0.5438 - accuracy: 0.7960 - val_loss: 0.2761 - val_accuracy: 0.9391\n",
            "Epoch 120/1000\n",
            " 1/29 [>.............................] - ETA: 0s - loss: 0.5865 - accuracy: 0.8125\n",
            "Epoch 120: saving model to model/keypoint_classifier\\keypoint_classifier.hdf5\n",
            "29/29 [==============================] - 0s 7ms/step - loss: 0.5660 - accuracy: 0.7898 - val_loss: 0.2786 - val_accuracy: 0.9383\n",
            "Epoch 121/1000\n",
            "28/29 [===========================>..] - ETA: 0s - loss: 0.5741 - accuracy: 0.7916\n",
            "Epoch 121: saving model to model/keypoint_classifier\\keypoint_classifier.hdf5\n",
            "29/29 [==============================] - 0s 8ms/step - loss: 0.5700 - accuracy: 0.7930 - val_loss: 0.2802 - val_accuracy: 0.9424\n",
            "Epoch 122/1000\n",
            "27/29 [==========================>...] - ETA: 0s - loss: 0.5761 - accuracy: 0.7850\n",
            "Epoch 122: saving model to model/keypoint_classifier\\keypoint_classifier.hdf5\n",
            "29/29 [==============================] - 0s 8ms/step - loss: 0.5726 - accuracy: 0.7852 - val_loss: 0.2795 - val_accuracy: 0.9391\n",
            "Epoch 123/1000\n",
            " 1/29 [>.............................] - ETA: 0s - loss: 0.5519 - accuracy: 0.7969\n",
            "Epoch 123: saving model to model/keypoint_classifier\\keypoint_classifier.hdf5\n",
            "29/29 [==============================] - 0s 7ms/step - loss: 0.5745 - accuracy: 0.7968 - val_loss: 0.2734 - val_accuracy: 0.9432\n",
            "Epoch 124/1000\n",
            " 1/29 [>.............................] - ETA: 0s - loss: 0.5266 - accuracy: 0.8047\n",
            "Epoch 124: saving model to model/keypoint_classifier\\keypoint_classifier.hdf5\n",
            "29/29 [==============================] - 0s 7ms/step - loss: 0.5555 - accuracy: 0.7946 - val_loss: 0.2781 - val_accuracy: 0.9424\n",
            "Epoch 125/1000\n",
            " 1/29 [>.............................] - ETA: 0s - loss: 0.7513 - accuracy: 0.7266\n",
            "Epoch 125: saving model to model/keypoint_classifier\\keypoint_classifier.hdf5\n",
            "29/29 [==============================] - 0s 7ms/step - loss: 0.5408 - accuracy: 0.8079 - val_loss: 0.2742 - val_accuracy: 0.9399\n",
            "Epoch 126/1000\n",
            "28/29 [===========================>..] - ETA: 0s - loss: 0.5599 - accuracy: 0.7994\n",
            "Epoch 126: saving model to model/keypoint_classifier\\keypoint_classifier.hdf5\n",
            "29/29 [==============================] - 0s 8ms/step - loss: 0.5633 - accuracy: 0.7976 - val_loss: 0.2729 - val_accuracy: 0.9399\n",
            "Epoch 127/1000\n",
            "29/29 [==============================] - ETA: 0s - loss: 0.5628 - accuracy: 0.7884\n",
            "Epoch 127: saving model to model/keypoint_classifier\\keypoint_classifier.hdf5\n",
            "29/29 [==============================] - 0s 7ms/step - loss: 0.5628 - accuracy: 0.7884 - val_loss: 0.2775 - val_accuracy: 0.9407\n",
            "Epoch 128/1000\n",
            "28/29 [===========================>..] - ETA: 0s - loss: 0.5553 - accuracy: 0.7949\n",
            "Epoch 128: saving model to model/keypoint_classifier\\keypoint_classifier.hdf5\n",
            "29/29 [==============================] - 0s 7ms/step - loss: 0.5565 - accuracy: 0.7941 - val_loss: 0.2818 - val_accuracy: 0.9383\n",
            "Epoch 129/1000\n",
            "28/29 [===========================>..] - ETA: 0s - loss: 0.5497 - accuracy: 0.7932\n",
            "Epoch 129: saving model to model/keypoint_classifier\\keypoint_classifier.hdf5\n",
            "29/29 [==============================] - 0s 8ms/step - loss: 0.5487 - accuracy: 0.7927 - val_loss: 0.2756 - val_accuracy: 0.9375\n",
            "Epoch 130/1000\n",
            "27/29 [==========================>...] - ETA: 0s - loss: 0.5410 - accuracy: 0.7966\n",
            "Epoch 130: saving model to model/keypoint_classifier\\keypoint_classifier.hdf5\n",
            "29/29 [==============================] - 0s 7ms/step - loss: 0.5479 - accuracy: 0.7933 - val_loss: 0.2688 - val_accuracy: 0.9416\n",
            "Epoch 131/1000\n",
            "28/29 [===========================>..] - ETA: 0s - loss: 0.5496 - accuracy: 0.8005\n",
            "Epoch 131: saving model to model/keypoint_classifier\\keypoint_classifier.hdf5\n",
            "29/29 [==============================] - 0s 8ms/step - loss: 0.5491 - accuracy: 0.8006 - val_loss: 0.2766 - val_accuracy: 0.9399\n",
            "Epoch 132/1000\n",
            "27/29 [==========================>...] - ETA: 0s - loss: 0.5466 - accuracy: 0.7905\n",
            "Epoch 132: saving model to model/keypoint_classifier\\keypoint_classifier.hdf5\n",
            "29/29 [==============================] - 0s 8ms/step - loss: 0.5469 - accuracy: 0.7903 - val_loss: 0.2721 - val_accuracy: 0.9416\n",
            "Epoch 133/1000\n",
            " 1/29 [>.............................] - ETA: 0s - loss: 0.5688 - accuracy: 0.8359\n",
            "Epoch 133: saving model to model/keypoint_classifier\\keypoint_classifier.hdf5\n",
            "29/29 [==============================] - 0s 7ms/step - loss: 0.5470 - accuracy: 0.8036 - val_loss: 0.2727 - val_accuracy: 0.9407\n",
            "Epoch 134/1000\n",
            "28/29 [===========================>..] - ETA: 0s - loss: 0.5638 - accuracy: 0.7941\n",
            "Epoch 134: saving model to model/keypoint_classifier\\keypoint_classifier.hdf5\n",
            "29/29 [==============================] - 0s 8ms/step - loss: 0.5662 - accuracy: 0.7933 - val_loss: 0.2706 - val_accuracy: 0.9432\n",
            "Epoch 135/1000\n",
            "24/29 [=======================>......] - ETA: 0s - loss: 0.5613 - accuracy: 0.7943\n",
            "Epoch 135: saving model to model/keypoint_classifier\\keypoint_classifier.hdf5\n",
            "29/29 [==============================] - 0s 8ms/step - loss: 0.5586 - accuracy: 0.7936 - val_loss: 0.2731 - val_accuracy: 0.9407\n",
            "Epoch 136/1000\n",
            "27/29 [==========================>...] - ETA: 0s - loss: 0.5321 - accuracy: 0.8047\n",
            "Epoch 136: saving model to model/keypoint_classifier\\keypoint_classifier.hdf5\n",
            "29/29 [==============================] - 0s 7ms/step - loss: 0.5323 - accuracy: 0.8063 - val_loss: 0.2694 - val_accuracy: 0.9407\n",
            "Epoch 137/1000\n",
            "28/29 [===========================>..] - ETA: 0s - loss: 0.5410 - accuracy: 0.8058\n",
            "Epoch 137: saving model to model/keypoint_classifier\\keypoint_classifier.hdf5\n",
            "29/29 [==============================] - 0s 7ms/step - loss: 0.5423 - accuracy: 0.8047 - val_loss: 0.2661 - val_accuracy: 0.9432\n",
            "Epoch 138/1000\n",
            "27/29 [==========================>...] - ETA: 0s - loss: 0.5552 - accuracy: 0.7888\n",
            "Epoch 138: saving model to model/keypoint_classifier\\keypoint_classifier.hdf5\n",
            "29/29 [==============================] - 0s 8ms/step - loss: 0.5593 - accuracy: 0.7865 - val_loss: 0.2716 - val_accuracy: 0.9407\n",
            "Epoch 139/1000\n",
            " 1/29 [>.............................] - ETA: 0s - loss: 0.5328 - accuracy: 0.8281\n",
            "Epoch 139: saving model to model/keypoint_classifier\\keypoint_classifier.hdf5\n",
            "29/29 [==============================] - 0s 7ms/step - loss: 0.5373 - accuracy: 0.7976 - val_loss: 0.2663 - val_accuracy: 0.9456\n",
            "Epoch 140/1000\n",
            "27/29 [==========================>...] - ETA: 0s - loss: 0.5440 - accuracy: 0.7917\n",
            "Epoch 140: saving model to model/keypoint_classifier\\keypoint_classifier.hdf5\n",
            "29/29 [==============================] - 0s 8ms/step - loss: 0.5389 - accuracy: 0.7957 - val_loss: 0.2715 - val_accuracy: 0.9391\n",
            "Epoch 141/1000\n",
            "26/29 [=========================>....] - ETA: 0s - loss: 0.5433 - accuracy: 0.7990\n",
            "Epoch 141: saving model to model/keypoint_classifier\\keypoint_classifier.hdf5\n",
            "29/29 [==============================] - 0s 8ms/step - loss: 0.5366 - accuracy: 0.8011 - val_loss: 0.2689 - val_accuracy: 0.9407\n",
            "Epoch 142/1000\n",
            "25/29 [========================>.....] - ETA: 0s - loss: 0.5528 - accuracy: 0.7919\n",
            "Epoch 142: saving model to model/keypoint_classifier\\keypoint_classifier.hdf5\n",
            "29/29 [==============================] - 0s 7ms/step - loss: 0.5548 - accuracy: 0.7919 - val_loss: 0.2720 - val_accuracy: 0.9407\n",
            "Epoch 143/1000\n",
            "29/29 [==============================] - ETA: 0s - loss: 0.5444 - accuracy: 0.7955\n",
            "Epoch 143: saving model to model/keypoint_classifier\\keypoint_classifier.hdf5\n",
            "29/29 [==============================] - 0s 7ms/step - loss: 0.5444 - accuracy: 0.7955 - val_loss: 0.2769 - val_accuracy: 0.9383\n",
            "Epoch 144/1000\n",
            " 1/29 [>.............................] - ETA: 0s - loss: 0.4671 - accuracy: 0.8125\n",
            "Epoch 144: saving model to model/keypoint_classifier\\keypoint_classifier.hdf5\n",
            "29/29 [==============================] - 0s 7ms/step - loss: 0.5361 - accuracy: 0.8055 - val_loss: 0.2689 - val_accuracy: 0.9399\n",
            "Epoch 145/1000\n",
            " 1/29 [>.............................] - ETA: 0s - loss: 0.5678 - accuracy: 0.7734\n",
            "Epoch 145: saving model to model/keypoint_classifier\\keypoint_classifier.hdf5\n",
            "29/29 [==============================] - 0s 7ms/step - loss: 0.5375 - accuracy: 0.7987 - val_loss: 0.2654 - val_accuracy: 0.9432\n",
            "Epoch 146/1000\n",
            "27/29 [==========================>...] - ETA: 0s - loss: 0.5532 - accuracy: 0.7954\n",
            "Epoch 146: saving model to model/keypoint_classifier\\keypoint_classifier.hdf5\n",
            "29/29 [==============================] - 0s 7ms/step - loss: 0.5589 - accuracy: 0.7919 - val_loss: 0.2653 - val_accuracy: 0.9424\n",
            "Epoch 147/1000\n",
            "25/29 [========================>.....] - ETA: 0s - loss: 0.5694 - accuracy: 0.7950\n",
            "Epoch 147: saving model to model/keypoint_classifier\\keypoint_classifier.hdf5\n",
            "29/29 [==============================] - 0s 8ms/step - loss: 0.5669 - accuracy: 0.7919 - val_loss: 0.2739 - val_accuracy: 0.9399\n",
            "Epoch 148/1000\n",
            "29/29 [==============================] - ETA: 0s - loss: 0.5343 - accuracy: 0.8079\n",
            "Epoch 148: saving model to model/keypoint_classifier\\keypoint_classifier.hdf5\n",
            "29/29 [==============================] - 0s 8ms/step - loss: 0.5343 - accuracy: 0.8079 - val_loss: 0.2720 - val_accuracy: 0.9416\n",
            "Epoch 149/1000\n",
            "28/29 [===========================>..] - ETA: 0s - loss: 0.5539 - accuracy: 0.7974\n",
            "Epoch 149: saving model to model/keypoint_classifier\\keypoint_classifier.hdf5\n",
            "29/29 [==============================] - 0s 7ms/step - loss: 0.5519 - accuracy: 0.7982 - val_loss: 0.2704 - val_accuracy: 0.9416\n",
            "Epoch 150/1000\n",
            "29/29 [==============================] - ETA: 0s - loss: 0.5487 - accuracy: 0.7995\n",
            "Epoch 150: saving model to model/keypoint_classifier\\keypoint_classifier.hdf5\n",
            "29/29 [==============================] - 0s 7ms/step - loss: 0.5487 - accuracy: 0.7995 - val_loss: 0.2694 - val_accuracy: 0.9424\n",
            "Epoch 151/1000\n",
            "26/29 [=========================>....] - ETA: 0s - loss: 0.5414 - accuracy: 0.8044\n",
            "Epoch 151: saving model to model/keypoint_classifier\\keypoint_classifier.hdf5\n",
            "29/29 [==============================] - 0s 8ms/step - loss: 0.5428 - accuracy: 0.8036 - val_loss: 0.2658 - val_accuracy: 0.9472\n",
            "Epoch 152/1000\n",
            " 1/29 [>.............................] - ETA: 0s - loss: 0.4253 - accuracy: 0.8516\n",
            "Epoch 152: saving model to model/keypoint_classifier\\keypoint_classifier.hdf5\n",
            "29/29 [==============================] - 0s 8ms/step - loss: 0.5269 - accuracy: 0.8014 - val_loss: 0.2712 - val_accuracy: 0.9448\n",
            "Epoch 153/1000\n",
            "29/29 [==============================] - ETA: 0s - loss: 0.5345 - accuracy: 0.7995\n",
            "Epoch 153: saving model to model/keypoint_classifier\\keypoint_classifier.hdf5\n",
            "29/29 [==============================] - 0s 8ms/step - loss: 0.5345 - accuracy: 0.7995 - val_loss: 0.2648 - val_accuracy: 0.9407\n",
            "Epoch 154/1000\n",
            "29/29 [==============================] - ETA: 0s - loss: 0.5256 - accuracy: 0.8084\n",
            "Epoch 154: saving model to model/keypoint_classifier\\keypoint_classifier.hdf5\n",
            "29/29 [==============================] - 0s 8ms/step - loss: 0.5256 - accuracy: 0.8084 - val_loss: 0.2655 - val_accuracy: 0.9432\n",
            "Epoch 155/1000\n",
            "23/29 [======================>.......] - ETA: 0s - loss: 0.5245 - accuracy: 0.8091\n",
            "Epoch 155: saving model to model/keypoint_classifier\\keypoint_classifier.hdf5\n",
            "29/29 [==============================] - 0s 8ms/step - loss: 0.5347 - accuracy: 0.8044 - val_loss: 0.2638 - val_accuracy: 0.9432\n",
            "Epoch 156/1000\n",
            " 1/29 [>.............................] - ETA: 0s - loss: 0.6131 - accuracy: 0.7500\n",
            "Epoch 156: saving model to model/keypoint_classifier\\keypoint_classifier.hdf5\n",
            "29/29 [==============================] - 0s 7ms/step - loss: 0.5426 - accuracy: 0.8063 - val_loss: 0.2637 - val_accuracy: 0.9440\n",
            "Epoch 157/1000\n",
            " 1/29 [>.............................] - ETA: 0s - loss: 0.5105 - accuracy: 0.8047\n",
            "Epoch 157: saving model to model/keypoint_classifier\\keypoint_classifier.hdf5\n",
            "29/29 [==============================] - 0s 8ms/step - loss: 0.5444 - accuracy: 0.7933 - val_loss: 0.2608 - val_accuracy: 0.9432\n",
            "Epoch 158/1000\n",
            " 1/29 [>.............................] - ETA: 0s - loss: 0.3874 - accuracy: 0.8594\n",
            "Epoch 158: saving model to model/keypoint_classifier\\keypoint_classifier.hdf5\n",
            "29/29 [==============================] - 0s 7ms/step - loss: 0.5308 - accuracy: 0.8090 - val_loss: 0.2625 - val_accuracy: 0.9432\n",
            "Epoch 159/1000\n",
            "28/29 [===========================>..] - ETA: 0s - loss: 0.5362 - accuracy: 0.8078\n",
            "Epoch 159: saving model to model/keypoint_classifier\\keypoint_classifier.hdf5\n",
            "29/29 [==============================] - 0s 8ms/step - loss: 0.5322 - accuracy: 0.8098 - val_loss: 0.2624 - val_accuracy: 0.9440\n",
            "Epoch 160/1000\n",
            " 1/29 [>.............................] - ETA: 0s - loss: 0.6165 - accuracy: 0.7656\n",
            "Epoch 160: saving model to model/keypoint_classifier\\keypoint_classifier.hdf5\n",
            "29/29 [==============================] - 0s 8ms/step - loss: 0.5407 - accuracy: 0.7984 - val_loss: 0.2609 - val_accuracy: 0.9432\n",
            "Epoch 161/1000\n",
            "27/29 [==========================>...] - ETA: 0s - loss: 0.5368 - accuracy: 0.8079\n",
            "Epoch 161: saving model to model/keypoint_classifier\\keypoint_classifier.hdf5\n",
            "29/29 [==============================] - 0s 8ms/step - loss: 0.5344 - accuracy: 0.8087 - val_loss: 0.2642 - val_accuracy: 0.9448\n",
            "Epoch 162/1000\n",
            "28/29 [===========================>..] - ETA: 0s - loss: 0.5210 - accuracy: 0.7988\n",
            "Epoch 162: saving model to model/keypoint_classifier\\keypoint_classifier.hdf5\n",
            "29/29 [==============================] - 0s 8ms/step - loss: 0.5184 - accuracy: 0.7995 - val_loss: 0.2604 - val_accuracy: 0.9432\n",
            "Epoch 163/1000\n",
            "28/29 [===========================>..] - ETA: 0s - loss: 0.5309 - accuracy: 0.8080\n",
            "Epoch 163: saving model to model/keypoint_classifier\\keypoint_classifier.hdf5\n",
            "29/29 [==============================] - 0s 7ms/step - loss: 0.5335 - accuracy: 0.8076 - val_loss: 0.2541 - val_accuracy: 0.9424\n",
            "Epoch 164/1000\n",
            "29/29 [==============================] - ETA: 0s - loss: 0.5336 - accuracy: 0.8063\n",
            "Epoch 164: saving model to model/keypoint_classifier\\keypoint_classifier.hdf5\n",
            "29/29 [==============================] - 0s 8ms/step - loss: 0.5336 - accuracy: 0.8063 - val_loss: 0.2611 - val_accuracy: 0.9424\n",
            "Epoch 165/1000\n",
            "29/29 [==============================] - ETA: 0s - loss: 0.5367 - accuracy: 0.8049\n",
            "Epoch 165: saving model to model/keypoint_classifier\\keypoint_classifier.hdf5\n",
            "29/29 [==============================] - 0s 7ms/step - loss: 0.5367 - accuracy: 0.8049 - val_loss: 0.2587 - val_accuracy: 0.9440\n",
            "Epoch 166/1000\n",
            "28/29 [===========================>..] - ETA: 0s - loss: 0.5268 - accuracy: 0.8055\n",
            "Epoch 166: saving model to model/keypoint_classifier\\keypoint_classifier.hdf5\n",
            "29/29 [==============================] - 0s 7ms/step - loss: 0.5250 - accuracy: 0.8060 - val_loss: 0.2605 - val_accuracy: 0.9456\n",
            "Epoch 167/1000\n",
            "28/29 [===========================>..] - ETA: 0s - loss: 0.5455 - accuracy: 0.7994\n",
            "Epoch 167: saving model to model/keypoint_classifier\\keypoint_classifier.hdf5\n",
            "29/29 [==============================] - 0s 7ms/step - loss: 0.5445 - accuracy: 0.7992 - val_loss: 0.2587 - val_accuracy: 0.9424\n",
            "Epoch 168/1000\n",
            "28/29 [===========================>..] - ETA: 0s - loss: 0.5374 - accuracy: 0.8025\n",
            "Epoch 168: saving model to model/keypoint_classifier\\keypoint_classifier.hdf5\n",
            "29/29 [==============================] - 0s 8ms/step - loss: 0.5402 - accuracy: 0.8019 - val_loss: 0.2589 - val_accuracy: 0.9407\n",
            "Epoch 169/1000\n",
            " 1/29 [>.............................] - ETA: 0s - loss: 0.5448 - accuracy: 0.8281\n",
            "Epoch 169: saving model to model/keypoint_classifier\\keypoint_classifier.hdf5\n",
            "29/29 [==============================] - 0s 8ms/step - loss: 0.5125 - accuracy: 0.8130 - val_loss: 0.2489 - val_accuracy: 0.9424\n",
            "Epoch 170/1000\n",
            "28/29 [===========================>..] - ETA: 0s - loss: 0.5623 - accuracy: 0.7958\n",
            "Epoch 170: saving model to model/keypoint_classifier\\keypoint_classifier.hdf5\n",
            "29/29 [==============================] - 0s 7ms/step - loss: 0.5653 - accuracy: 0.7957 - val_loss: 0.2597 - val_accuracy: 0.9416\n",
            "Epoch 171/1000\n",
            "24/29 [=======================>......] - ETA: 0s - loss: 0.5363 - accuracy: 0.8128\n",
            "Epoch 171: saving model to model/keypoint_classifier\\keypoint_classifier.hdf5\n",
            "29/29 [==============================] - 0s 9ms/step - loss: 0.5455 - accuracy: 0.8065 - val_loss: 0.2632 - val_accuracy: 0.9432\n",
            "Epoch 172/1000\n",
            " 1/29 [>.............................] - ETA: 0s - loss: 0.4113 - accuracy: 0.8672\n",
            "Epoch 172: saving model to model/keypoint_classifier\\keypoint_classifier.hdf5\n",
            "29/29 [==============================] - 0s 8ms/step - loss: 0.5376 - accuracy: 0.8103 - val_loss: 0.2629 - val_accuracy: 0.9424\n",
            "Epoch 173/1000\n",
            "27/29 [==========================>...] - ETA: 0s - loss: 0.5223 - accuracy: 0.8061\n",
            "Epoch 173: saving model to model/keypoint_classifier\\keypoint_classifier.hdf5\n",
            "29/29 [==============================] - 0s 7ms/step - loss: 0.5239 - accuracy: 0.8057 - val_loss: 0.2607 - val_accuracy: 0.9440\n",
            "Epoch 174/1000\n",
            " 1/29 [>.............................] - ETA: 0s - loss: 0.6967 - accuracy: 0.7422\n",
            "Epoch 174: saving model to model/keypoint_classifier\\keypoint_classifier.hdf5\n",
            "29/29 [==============================] - 0s 7ms/step - loss: 0.5372 - accuracy: 0.8038 - val_loss: 0.2610 - val_accuracy: 0.9440\n",
            "Epoch 175/1000\n",
            "24/29 [=======================>......] - ETA: 0s - loss: 0.5280 - accuracy: 0.8070\n",
            "Epoch 175: saving model to model/keypoint_classifier\\keypoint_classifier.hdf5\n",
            "29/29 [==============================] - 0s 7ms/step - loss: 0.5255 - accuracy: 0.8063 - val_loss: 0.2603 - val_accuracy: 0.9440\n",
            "Epoch 176/1000\n",
            " 1/29 [>.............................] - ETA: 0s - loss: 0.6261 - accuracy: 0.7578\n",
            "Epoch 176: saving model to model/keypoint_classifier\\keypoint_classifier.hdf5\n",
            "29/29 [==============================] - 0s 7ms/step - loss: 0.5331 - accuracy: 0.8060 - val_loss: 0.2580 - val_accuracy: 0.9464\n",
            "Epoch 177/1000\n",
            "29/29 [==============================] - ETA: 0s - loss: 0.5129 - accuracy: 0.8147\n",
            "Epoch 177: saving model to model/keypoint_classifier\\keypoint_classifier.hdf5\n",
            "29/29 [==============================] - 0s 7ms/step - loss: 0.5129 - accuracy: 0.8147 - val_loss: 0.2551 - val_accuracy: 0.9481\n",
            "Epoch 178/1000\n",
            "28/29 [===========================>..] - ETA: 0s - loss: 0.5315 - accuracy: 0.8114\n",
            "Epoch 178: saving model to model/keypoint_classifier\\keypoint_classifier.hdf5\n",
            "29/29 [==============================] - 0s 8ms/step - loss: 0.5316 - accuracy: 0.8111 - val_loss: 0.2607 - val_accuracy: 0.9424\n",
            "Epoch 179/1000\n",
            "25/29 [========================>.....] - ETA: 0s - loss: 0.5390 - accuracy: 0.8016\n",
            "Epoch 179: saving model to model/keypoint_classifier\\keypoint_classifier.hdf5\n",
            "29/29 [==============================] - 0s 7ms/step - loss: 0.5260 - accuracy: 0.8074 - val_loss: 0.2608 - val_accuracy: 0.9424\n",
            "Epoch 180/1000\n",
            " 1/29 [>.............................] - ETA: 0s - loss: 0.5639 - accuracy: 0.7812\n",
            "Epoch 180: saving model to model/keypoint_classifier\\keypoint_classifier.hdf5\n",
            "29/29 [==============================] - 0s 8ms/step - loss: 0.5221 - accuracy: 0.8057 - val_loss: 0.2559 - val_accuracy: 0.9424\n",
            "Epoch 181/1000\n",
            "29/29 [==============================] - ETA: 0s - loss: 0.5251 - accuracy: 0.8152\n",
            "Epoch 181: saving model to model/keypoint_classifier\\keypoint_classifier.hdf5\n",
            "29/29 [==============================] - 0s 7ms/step - loss: 0.5251 - accuracy: 0.8152 - val_loss: 0.2621 - val_accuracy: 0.9440\n",
            "Epoch 182/1000\n",
            " 1/29 [>.............................] - ETA: 0s - loss: 0.5554 - accuracy: 0.7812\n",
            "Epoch 182: saving model to model/keypoint_classifier\\keypoint_classifier.hdf5\n",
            "29/29 [==============================] - 0s 7ms/step - loss: 0.5313 - accuracy: 0.8068 - val_loss: 0.2588 - val_accuracy: 0.9432\n",
            "Epoch 183/1000\n",
            "23/29 [======================>.......] - ETA: 0s - loss: 0.5104 - accuracy: 0.8111\n",
            "Epoch 183: saving model to model/keypoint_classifier\\keypoint_classifier.hdf5\n",
            "29/29 [==============================] - 0s 7ms/step - loss: 0.5220 - accuracy: 0.8087 - val_loss: 0.2561 - val_accuracy: 0.9416\n",
            "Epoch 184/1000\n",
            " 1/29 [>.............................] - ETA: 0s - loss: 0.4061 - accuracy: 0.8750\n",
            "Epoch 184: saving model to model/keypoint_classifier\\keypoint_classifier.hdf5\n",
            "29/29 [==============================] - 0s 7ms/step - loss: 0.5126 - accuracy: 0.8120 - val_loss: 0.2547 - val_accuracy: 0.9456\n",
            "Epoch 185/1000\n",
            "27/29 [==========================>...] - ETA: 0s - loss: 0.5158 - accuracy: 0.8102\n",
            "Epoch 185: saving model to model/keypoint_classifier\\keypoint_classifier.hdf5\n",
            "29/29 [==============================] - 0s 7ms/step - loss: 0.5180 - accuracy: 0.8103 - val_loss: 0.2586 - val_accuracy: 0.9391\n",
            "Epoch 186/1000\n",
            " 1/29 [>.............................] - ETA: 0s - loss: 0.4112 - accuracy: 0.8281\n",
            "Epoch 186: saving model to model/keypoint_classifier\\keypoint_classifier.hdf5\n",
            "29/29 [==============================] - 0s 8ms/step - loss: 0.5297 - accuracy: 0.8014 - val_loss: 0.2590 - val_accuracy: 0.9407\n",
            "Epoch 187/1000\n",
            "23/29 [======================>.......] - ETA: 0s - loss: 0.5345 - accuracy: 0.7996\n",
            "Epoch 187: saving model to model/keypoint_classifier\\keypoint_classifier.hdf5\n",
            "29/29 [==============================] - 0s 8ms/step - loss: 0.5409 - accuracy: 0.7971 - val_loss: 0.2639 - val_accuracy: 0.9399\n",
            "Epoch 188/1000\n",
            " 1/29 [>.............................] - ETA: 0s - loss: 0.3854 - accuracy: 0.8281\n",
            "Epoch 188: saving model to model/keypoint_classifier\\keypoint_classifier.hdf5\n",
            "29/29 [==============================] - 0s 7ms/step - loss: 0.4979 - accuracy: 0.8141 - val_loss: 0.2602 - val_accuracy: 0.9440\n",
            "Epoch 189/1000\n",
            "28/29 [===========================>..] - ETA: 0s - loss: 0.5163 - accuracy: 0.8142\n",
            "Epoch 189: saving model to model/keypoint_classifier\\keypoint_classifier.hdf5\n",
            "29/29 [==============================] - 0s 8ms/step - loss: 0.5145 - accuracy: 0.8149 - val_loss: 0.2562 - val_accuracy: 0.9432\n",
            "Epoch 189: early stopping\n"
          ]
        },
        {
          "data": {
            "text/plain": [
              "<keras.callbacks.History at 0x1ac72bdfa60>"
            ]
          },
          "execution_count": 11,
          "metadata": {},
          "output_type": "execute_result"
        }
      ],
      "source": [
        "model.fit(\n",
        "    X_train,\n",
        "    y_train,\n",
        "    epochs=1000,\n",
        "    batch_size=128,\n",
        "    validation_data=(X_test, y_test),\n",
        "    callbacks=[cp_callback, es_callback]\n",
        ")"
      ]
    },
    {
      "cell_type": "code",
      "execution_count": 12,
      "metadata": {
        "colab": {
          "base_uri": "https://localhost:8080/"
        },
        "id": "pxvb2Y299hE3",
        "outputId": "59eb3185-2e37-4b9e-bc9d-ab1b8ac29b7f"
      },
      "outputs": [
        {
          "name": "stdout",
          "output_type": "stream",
          "text": [
            "10/10 [==============================] - 0s 1ms/step - loss: 0.2562 - accuracy: 0.9432\n"
          ]
        }
      ],
      "source": [
        "# Model evaluation\n",
        "val_loss, val_acc = model.evaluate(X_test, y_test, batch_size=128)"
      ]
    },
    {
      "cell_type": "code",
      "execution_count": 13,
      "metadata": {
        "id": "RBkmDeUW9hE4"
      },
      "outputs": [],
      "source": [
        "# Loading the saved model\n",
        "model = tf.keras.models.load_model(model_save_path)"
      ]
    },
    {
      "cell_type": "code",
      "execution_count": 14,
      "metadata": {
        "colab": {
          "base_uri": "https://localhost:8080/"
        },
        "id": "tFz9Tb0I9hE4",
        "outputId": "1c3b3528-54ae-4ee2-ab04-77429211cbef"
      },
      "outputs": [
        {
          "name": "stdout",
          "output_type": "stream",
          "text": [
            "1/1 [==============================] - 0s 105ms/step\n",
            "[2.1277375e-04 9.7163492e-01 2.8044049e-02 1.8021530e-05 9.0177971e-05]\n",
            "1\n"
          ]
        }
      ],
      "source": [
        "# Inference test\n",
        "predict_result = model.predict(np.array([X_test[0]]))\n",
        "print(np.squeeze(predict_result))\n",
        "print(np.argmax(np.squeeze(predict_result)))"
      ]
    },
    {
      "cell_type": "markdown",
      "metadata": {
        "id": "S3U4yNWx9hE4"
      },
      "source": [
        "# Confusion matrix"
      ]
    },
    {
      "cell_type": "code",
      "execution_count": 15,
      "metadata": {
        "colab": {
          "base_uri": "https://localhost:8080/",
          "height": 582
        },
        "id": "AP1V6SCk9hE5",
        "outputId": "08e41a80-7a4a-4619-8125-ecc371368d19"
      },
      "outputs": [
        {
          "name": "stdout",
          "output_type": "stream",
          "text": [
            "39/39 [==============================] - 0s 2ms/step\n"
          ]
        },
        {
          "data": {
            "image/png": "[encoded data removed]",
            "text/plain": [
              "<Figure size 700x600 with 2 Axes>"
            ]
          },
          "metadata": {},
          "output_type": "display_data"
        },
        {
          "name": "stdout",
          "output_type": "stream",
          "text": [
            "Classification Report\n",
            "              precision    recall  f1-score   support\n",
            "\n",
            "           0       0.96      0.99      0.98       400\n",
            "           1       0.96      0.90      0.93       370\n",
            "           2       0.90      0.98      0.94       333\n",
            "           3       0.99      0.98      0.98        86\n",
            "           4       1.00      0.53      0.70        43\n",
            "\n",
            "    accuracy                           0.94      1232\n",
            "   macro avg       0.96      0.88      0.90      1232\n",
            "weighted avg       0.95      0.94      0.94      1232\n",
            "\n"
          ]
        }
      ],
      "source": [
        "import pandas as pd\n",
        "import seaborn as sns\n",
        "import matplotlib.pyplot as plt\n",
        "from sklearn.metrics import confusion_matrix, classification_report\n",
        "\n",
        "def print_confusion_matrix(y_true, y_pred, report=True):\n",
        "    labels = sorted(list(set(y_true)))\n",
        "    cmx_data = confusion_matrix(y_true, y_pred, labels=labels)\n",
        "    \n",
        "    df_cmx = pd.DataFrame(cmx_data, index=labels, columns=labels)\n",
        " \n",
        "    fig, ax = plt.subplots(figsize=(7, 6))\n",
        "    sns.heatmap(df_cmx, annot=True, fmt='g' ,square=False)\n",
        "    ax.set_ylim(len(set(y_true)), 0)\n",
        "    plt.show()\n",
        "    \n",
        "    if report:\n",
        "        print('Classification Report')\n",
        "        print(classification_report(y_test, y_pred))\n",
        "\n",
        "Y_pred = model.predict(X_test)\n",
        "y_pred = np.argmax(Y_pred, axis=1)\n",
        "\n",
        "print_confusion_matrix(y_test, y_pred)"
      ]
    },
    {
      "cell_type": "markdown",
      "metadata": {
        "id": "FNP6aqzc9hE5"
      },
      "source": [
        "# Convert to model for Tensorflow-Lite"
      ]
    },
    {
      "cell_type": "code",
      "execution_count": 16,
      "metadata": {
        "id": "ODjnYyld9hE6"
      },
      "outputs": [],
      "source": [
        "# Save as a model dedicated to inference\n",
        "model.save(model_save_path, include_optimizer=False)"
      ]
    },
    {
      "cell_type": "code",
      "execution_count": 17,
      "metadata": {
        "colab": {
          "base_uri": "https://localhost:8080/"
        },
        "id": "zRfuK8Y59hE6",
        "outputId": "a4ca585c-b5d5-4244-8291-8674063209bb"
      },
      "outputs": [
        {
          "name": "stdout",
          "output_type": "stream",
          "text": [
            "INFO:tensorflow:Assets written to: C:\\Users\\Hardik\\AppData\\Local\\Temp\\tmp6v4lbipr\\assets\n"
          ]
        },
        {
          "data": {
            "text/plain": [
              "6588"
            ]
          },
          "execution_count": 17,
          "metadata": {},
          "output_type": "execute_result"
        }
      ],
      "source": [
        "# Transform model (quantization)\n",
        "\n",
        "converter = tf.lite.TFLiteConverter.from_keras_model(model)\n",
        "converter.optimizations = [tf.lite.Optimize.DEFAULT]\n",
        "tflite_quantized_model = converter.convert()\n",
        "\n",
        "open(tflite_save_path, 'wb').write(tflite_quantized_model)"
      ]
    },
    {
      "cell_type": "markdown",
      "metadata": {
        "id": "CHBPBXdx9hE6"
      },
      "source": [
        "# Inference test"
      ]
    },
    {
      "cell_type": "code",
      "execution_count": 18,
      "metadata": {
        "id": "mGAzLocO9hE7"
      },
      "outputs": [],
      "source": [
        "interpreter = tf.lite.Interpreter(model_path=tflite_save_path)\n",
        "interpreter.allocate_tensors()"
      ]
    },
    {
      "cell_type": "code",
      "execution_count": 19,
      "metadata": {
        "id": "oQuDK8YS9hE7"
      },
      "outputs": [],
      "source": [
        "# Get I / O tensor\n",
        "input_details = interpreter.get_input_details()\n",
        "output_details = interpreter.get_output_details()"
      ]
    },
    {
      "cell_type": "code",
      "execution_count": 20,
      "metadata": {
        "id": "2_ixAf_l9hE7"
      },
      "outputs": [],
      "source": [
        "interpreter.set_tensor(input_details[0]['index'], np.array([X_test[0]]))"
      ]
    },
    {
      "cell_type": "code",
      "execution_count": 21,
      "metadata": {
        "colab": {
          "base_uri": "https://localhost:8080/"
        },
        "id": "s4FoAnuc9hE7",
        "outputId": "91f18257-8d8b-4ef3-c558-e9b5f94fabbf",
        "scrolled": true
      },
      "outputs": [
        {
          "name": "stdout",
          "output_type": "stream",
          "text": [
            "CPU times: total: 31.2 ms\n",
            "Wall time: 997 µs\n"
          ]
        }
      ],
      "source": [
        "%%time\n",
        "# Inference implementation\n",
        "interpreter.invoke()\n",
        "tflite_results = interpreter.get_tensor(output_details[0]['index'])"
      ]
    },
    {
      "cell_type": "code",
      "execution_count": 22,
      "metadata": {
        "colab": {
          "base_uri": "https://localhost:8080/"
        },
        "id": "vONjp19J9hE8",
        "outputId": "77205e24-fd00-42c4-f7b6-e06e527c2cba"
      },
      "outputs": [
        {
          "name": "stdout",
          "output_type": "stream",
          "text": [
            "[2.1277354e-04 9.7163492e-01 2.8044062e-02 1.8021494e-05 9.0177891e-05]\n",
            "1\n"
          ]
        }
      ],
      "source": [
        "print(np.squeeze(tflite_results))\n",
        "print(np.argmax(np.squeeze(tflite_results)))"
      ]
    }
  ],
  "metadata": {
    "accelerator": "GPU",
    "colab": {
      "collapsed_sections": [],
      "name": "keypoint_classification_EN.ipynb",
      "provenance": [],
      "toc_visible": true
    },
    "kernelspec": {
      "display_name": "Python 3.10.5 64-bit",
      "language": "python",
      "name": "python3"
    },
    "language_info": {
      "codemirror_mode": {
        "name": "ipython",
        "version": 3
      },
      "file_extension": ".py",
      "mimetype": "text/x-python",
      "name": "python",
      "nbconvert_exporter": "python",
      "pygments_lexer": "ipython3",
      "version": "3.10.5"
    },
    "vscode": {
      "interpreter": {
        "hash": "369f2c481f4da34e4445cda3fffd2e751bd1c4d706f27375911949ba6bb62e1c"
      }
    }
  },
  "nbformat": 4,
  "nbformat_minor": 0
}
