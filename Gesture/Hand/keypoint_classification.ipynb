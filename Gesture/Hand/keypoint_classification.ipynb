{
  "cells": [
    {
      "cell_type": "code",
      "execution_count": 24,
      "metadata": {
        "id": "igMyGnjE9hEp"
      },
      "outputs": [],
      "source": [
        "import csv\n",
        "\n",
        "import numpy as np\n",
        "import tensorflow as tf\n",
        "from sklearn.model_selection import train_test_split\n",
        "\n",
        "RANDOM_SEED = 42"
      ]
    },
    {
      "cell_type": "markdown",
      "metadata": {
        "id": "t2HDvhIu9hEr"
      },
      "source": [
        "# Specify each path"
      ]
    },
    {
      "cell_type": "code",
      "execution_count": 25,
      "metadata": {
        "id": "9NvZP2Zn9hEy"
      },
      "outputs": [],
      "source": [
        "dataset = 'model/keypoint_classifier/keypoint.csv'\n",
        "model_save_path = 'model/keypoint_classifier/keypoint_classifier.hdf5'\n",
        "tflite_save_path = 'model/keypoint_classifier/keypoint_classifier.tflite'"
      ]
    },
    {
      "cell_type": "markdown",
      "metadata": {
        "id": "s5oMH7x19hEz"
      },
      "source": [
        "# Set number of classes"
      ]
    },
    {
      "cell_type": "code",
      "execution_count": 26,
      "metadata": {
        "id": "du4kodXL9hEz"
      },
      "outputs": [],
      "source": [
        "NUM_CLASSES = 5"
      ]
    },
    {
      "cell_type": "markdown",
      "metadata": {
        "id": "XjnL0uso9hEz"
      },
      "source": [
        "# Dataset reading"
      ]
    },
    {
      "cell_type": "code",
      "execution_count": 27,
      "metadata": {
        "id": "QT5ZqtEz9hE0"
      },
      "outputs": [],
      "source": [
        "X_dataset = np.loadtxt(dataset, delimiter=',', dtype='float32', usecols=list(range(1, (21 * 2) + 1)))"
      ]
    },
    {
      "cell_type": "code",
      "execution_count": 28,
      "metadata": {
        "id": "QmoKFsp49hE0"
      },
      "outputs": [],
      "source": [
        "y_dataset = np.loadtxt(dataset, delimiter=',', dtype='int32', usecols=(0))"
      ]
    },
    {
      "cell_type": "code",
      "execution_count": 29,
      "metadata": {
        "id": "xQU7JTZ_9hE0"
      },
      "outputs": [],
      "source": [
        "X_train, X_test, y_train, y_test = train_test_split(X_dataset, y_dataset, train_size=0.75, random_state=RANDOM_SEED)"
      ]
    },
    {
      "cell_type": "markdown",
      "metadata": {
        "id": "mxK_lETT9hE0"
      },
      "source": [
        "# Model building"
      ]
    },
    {
      "cell_type": "code",
      "execution_count": 30,
      "metadata": {
        "id": "vHBmUf1t9hE1"
      },
      "outputs": [],
      "source": [
        "model = tf.keras.models.Sequential([\n",
        "    tf.keras.layers.Input((21 * 2, )),\n",
        "    tf.keras.layers.Dropout(0.2),\n",
        "    tf.keras.layers.Dense(20, activation='relu'),\n",
        "    tf.keras.layers.Dropout(0.4),\n",
        "    tf.keras.layers.Dense(10, activation='relu'),\n",
        "    tf.keras.layers.Dense(NUM_CLASSES, activation='softmax')\n",
        "])"
      ]
    },
    {
      "cell_type": "code",
      "execution_count": 31,
      "metadata": {
        "colab": {
          "base_uri": "https://localhost:8080/"
        },
        "id": "ypqky9tc9hE1",
        "outputId": "5db082bb-30e3-4110-bf63-a1ee777ecd46"
      },
      "outputs": [
        {
          "name": "stdout",
          "output_type": "stream",
          "text": [
            "Model: \"sequential_1\"\n",
            "_________________________________________________________________\n",
            " Layer (type)                Output Shape              Param #   \n",
            "=================================================================\n",
            " dropout_2 (Dropout)         (None, 42)                0         \n",
            "                                                                 \n",
            " dense_3 (Dense)             (None, 20)                860       \n",
            "                                                                 \n",
            " dropout_3 (Dropout)         (None, 20)                0         \n",
            "                                                                 \n",
            " dense_4 (Dense)             (None, 10)                210       \n",
            "                                                                 \n",
            " dense_5 (Dense)             (None, 5)                 55        \n",
            "                                                                 \n",
            "=================================================================\n",
            "Total params: 1,125\n",
            "Trainable params: 1,125\n",
            "Non-trainable params: 0\n",
            "_________________________________________________________________\n"
          ]
        }
      ],
      "source": [
        "model.summary()  # tf.keras.utils.plot_model(model, show_shapes=True)"
      ]
    },
    {
      "cell_type": "code",
      "execution_count": 32,
      "metadata": {
        "id": "MbMjOflQ9hE1"
      },
      "outputs": [],
      "source": [
        "# Model checkpoint callback\n",
        "cp_callback = tf.keras.callbacks.ModelCheckpoint(\n",
        "    model_save_path, verbose=1, save_weights_only=False)\n",
        "# Callback for early stopping\n",
        "es_callback = tf.keras.callbacks.EarlyStopping(patience=20, verbose=1)"
      ]
    },
    {
      "cell_type": "code",
      "execution_count": 33,
      "metadata": {
        "id": "c3Dac0M_9hE2"
      },
      "outputs": [],
      "source": [
        "# Model compilation\n",
        "model.compile(\n",
        "    optimizer='adam',\n",
        "    loss='sparse_categorical_crossentropy',\n",
        "    metrics=['accuracy']\n",
        ")"
      ]
    },
    {
      "cell_type": "markdown",
      "metadata": {
        "id": "7XI0j1Iu9hE2"
      },
      "source": [
        "# Model training"
      ]
    },
    {
      "cell_type": "code",
      "execution_count": 34,
      "metadata": {
        "colab": {
          "base_uri": "https://localhost:8080/"
        },
        "id": "WirBl-JE9hE3",
        "outputId": "71b30ca2-8294-4d9d-8aa2-800d90d399de",
        "scrolled": true
      },
      "outputs": [
        {
          "name": "stdout",
          "output_type": "stream",
          "text": [
            "Epoch 1/1000\n",
            "28/29 [===========================>..] - ETA: 0s - loss: 1.5159 - accuracy: 0.3039 \n",
            "Epoch 1: saving model to model/keypoint_classifier\\keypoint_classifier.hdf5\n",
            "29/29 [==============================] - 1s 11ms/step - loss: 1.5148 - accuracy: 0.3044 - val_loss: 1.4022 - val_accuracy: 0.4667\n",
            "Epoch 2/1000\n",
            "26/29 [=========================>....] - ETA: 0s - loss: 1.4355 - accuracy: 0.3573\n",
            "Epoch 2: saving model to model/keypoint_classifier\\keypoint_classifier.hdf5\n",
            "29/29 [==============================] - 0s 5ms/step - loss: 1.4305 - accuracy: 0.3609 - val_loss: 1.3440 - val_accuracy: 0.4968\n",
            "Epoch 3/1000\n",
            "28/29 [===========================>..] - ETA: 0s - loss: 1.3653 - accuracy: 0.3945\n",
            "Epoch 3: saving model to model/keypoint_classifier\\keypoint_classifier.hdf5\n",
            "29/29 [==============================] - 0s 5ms/step - loss: 1.3637 - accuracy: 0.3939 - val_loss: 1.2907 - val_accuracy: 0.5325\n",
            "Epoch 4/1000\n",
            "22/29 [=====================>........] - ETA: 0s - loss: 1.3257 - accuracy: 0.4201\n",
            "Epoch 4: saving model to model/keypoint_classifier\\keypoint_classifier.hdf5\n",
            "29/29 [==============================] - 0s 6ms/step - loss: 1.3222 - accuracy: 0.4253 - val_loss: 1.2375 - val_accuracy: 0.5503\n",
            "Epoch 5/1000\n",
            "21/29 [====================>.........] - ETA: 0s - loss: 1.2778 - accuracy: 0.4591\n",
            "Epoch 5: saving model to model/keypoint_classifier\\keypoint_classifier.hdf5\n",
            "29/29 [==============================] - 0s 6ms/step - loss: 1.2701 - accuracy: 0.4583 - val_loss: 1.1712 - val_accuracy: 0.5852\n",
            "Epoch 6/1000\n",
            "19/29 [==================>...........] - ETA: 0s - loss: 1.2278 - accuracy: 0.4807\n",
            "Epoch 6: saving model to model/keypoint_classifier\\keypoint_classifier.hdf5\n",
            "29/29 [==============================] - 0s 7ms/step - loss: 1.2119 - accuracy: 0.4911 - val_loss: 1.1059 - val_accuracy: 0.6437\n",
            "Epoch 7/1000\n",
            "18/29 [=================>............] - ETA: 0s - loss: 1.1612 - accuracy: 0.5178\n",
            "Epoch 7: saving model to model/keypoint_classifier\\keypoint_classifier.hdf5\n",
            "29/29 [==============================] - 0s 7ms/step - loss: 1.1524 - accuracy: 0.5211 - val_loss: 1.0335 - val_accuracy: 0.7037\n",
            "Epoch 8/1000\n",
            "20/29 [===================>..........] - ETA: 0s - loss: 1.0801 - accuracy: 0.5562\n",
            "Epoch 8: saving model to model/keypoint_classifier\\keypoint_classifier.hdf5\n",
            "29/29 [==============================] - 0s 6ms/step - loss: 1.0877 - accuracy: 0.5509 - val_loss: 0.9453 - val_accuracy: 0.7281\n",
            "Epoch 9/1000\n",
            "19/29 [==================>...........] - ETA: 0s - loss: 1.0537 - accuracy: 0.5654\n",
            "Epoch 9: saving model to model/keypoint_classifier\\keypoint_classifier.hdf5\n",
            "29/29 [==============================] - 0s 6ms/step - loss: 1.0485 - accuracy: 0.5652 - val_loss: 0.8763 - val_accuracy: 0.7549\n",
            "Epoch 10/1000\n",
            "20/29 [===================>..........] - ETA: 0s - loss: 1.0065 - accuracy: 0.5691\n",
            "Epoch 10: saving model to model/keypoint_classifier\\keypoint_classifier.hdf5\n",
            "29/29 [==============================] - 0s 6ms/step - loss: 1.0054 - accuracy: 0.5758 - val_loss: 0.8124 - val_accuracy: 0.7881\n",
            "Epoch 11/1000\n",
            "20/29 [===================>..........] - ETA: 0s - loss: 0.9770 - accuracy: 0.5910\n",
            "Epoch 11: saving model to model/keypoint_classifier\\keypoint_classifier.hdf5\n",
            "29/29 [==============================] - 0s 6ms/step - loss: 0.9757 - accuracy: 0.5931 - val_loss: 0.7607 - val_accuracy: 0.7946\n",
            "Epoch 12/1000\n",
            "18/29 [=================>............] - ETA: 0s - loss: 0.9530 - accuracy: 0.6133\n",
            "Epoch 12: saving model to model/keypoint_classifier\\keypoint_classifier.hdf5\n",
            "29/29 [==============================] - 0s 6ms/step - loss: 0.9574 - accuracy: 0.6101 - val_loss: 0.7192 - val_accuracy: 0.8271\n",
            "Epoch 13/1000\n",
            "20/29 [===================>..........] - ETA: 0s - loss: 0.9260 - accuracy: 0.6199\n",
            "Epoch 13: saving model to model/keypoint_classifier\\keypoint_classifier.hdf5\n",
            "29/29 [==============================] - 0s 6ms/step - loss: 0.9159 - accuracy: 0.6201 - val_loss: 0.6811 - val_accuracy: 0.8515\n",
            "Epoch 14/1000\n",
            "19/29 [==================>...........] - ETA: 0s - loss: 0.8984 - accuracy: 0.6439\n",
            "Epoch 14: saving model to model/keypoint_classifier\\keypoint_classifier.hdf5\n",
            "29/29 [==============================] - 0s 6ms/step - loss: 0.8945 - accuracy: 0.6380 - val_loss: 0.6413 - val_accuracy: 0.8571\n",
            "Epoch 15/1000\n",
            "23/29 [======================>.......] - ETA: 0s - loss: 0.8631 - accuracy: 0.6423\n",
            "Epoch 15: saving model to model/keypoint_classifier\\keypoint_classifier.hdf5\n",
            "29/29 [==============================] - 0s 9ms/step - loss: 0.8737 - accuracy: 0.6388 - val_loss: 0.6177 - val_accuracy: 0.8669\n",
            "Epoch 16/1000\n",
            "18/29 [=================>............] - ETA: 0s - loss: 0.8810 - accuracy: 0.6432\n",
            "Epoch 16: saving model to model/keypoint_classifier\\keypoint_classifier.hdf5\n",
            "29/29 [==============================] - 0s 6ms/step - loss: 0.8682 - accuracy: 0.6461 - val_loss: 0.5934 - val_accuracy: 0.8726\n",
            "Epoch 17/1000\n",
            "22/29 [=====================>........] - ETA: 0s - loss: 0.8511 - accuracy: 0.6577\n",
            "Epoch 17: saving model to model/keypoint_classifier\\keypoint_classifier.hdf5\n",
            "29/29 [==============================] - 0s 6ms/step - loss: 0.8544 - accuracy: 0.6575 - val_loss: 0.5762 - val_accuracy: 0.8807\n",
            "Epoch 18/1000\n",
            "29/29 [==============================] - ETA: 0s - loss: 0.8338 - accuracy: 0.6710\n",
            "Epoch 18: saving model to model/keypoint_classifier\\keypoint_classifier.hdf5\n",
            "29/29 [==============================] - 0s 5ms/step - loss: 0.8338 - accuracy: 0.6710 - val_loss: 0.5569 - val_accuracy: 0.8758\n",
            "Epoch 19/1000\n",
            "20/29 [===================>..........] - ETA: 0s - loss: 0.8233 - accuracy: 0.6645\n",
            "Epoch 19: saving model to model/keypoint_classifier\\keypoint_classifier.hdf5\n",
            "29/29 [==============================] - 0s 6ms/step - loss: 0.8141 - accuracy: 0.6696 - val_loss: 0.5385 - val_accuracy: 0.8791\n",
            "Epoch 20/1000\n",
            "18/29 [=================>............] - ETA: 0s - loss: 0.7917 - accuracy: 0.6875\n",
            "Epoch 20: saving model to model/keypoint_classifier\\keypoint_classifier.hdf5\n",
            "29/29 [==============================] - 0s 7ms/step - loss: 0.8010 - accuracy: 0.6791 - val_loss: 0.5226 - val_accuracy: 0.8839\n",
            "Epoch 21/1000\n",
            "25/29 [========================>.....] - ETA: 0s - loss: 0.7869 - accuracy: 0.6812\n",
            "Epoch 21: saving model to model/keypoint_classifier\\keypoint_classifier.hdf5\n",
            "29/29 [==============================] - 0s 10ms/step - loss: 0.7830 - accuracy: 0.6864 - val_loss: 0.5068 - val_accuracy: 0.8912\n",
            "Epoch 22/1000\n",
            "29/29 [==============================] - ETA: 0s - loss: 0.7656 - accuracy: 0.6870\n",
            "Epoch 22: saving model to model/keypoint_classifier\\keypoint_classifier.hdf5\n",
            "29/29 [==============================] - 0s 7ms/step - loss: 0.7656 - accuracy: 0.6870 - val_loss: 0.4869 - val_accuracy: 0.8929\n",
            "Epoch 23/1000\n",
            "20/29 [===================>..........] - ETA: 0s - loss: 0.7759 - accuracy: 0.6875\n",
            "Epoch 23: saving model to model/keypoint_classifier\\keypoint_classifier.hdf5\n",
            "29/29 [==============================] - 0s 7ms/step - loss: 0.7695 - accuracy: 0.6872 - val_loss: 0.4735 - val_accuracy: 0.9018\n",
            "Epoch 24/1000\n",
            "26/29 [=========================>....] - ETA: 0s - loss: 0.7703 - accuracy: 0.6872\n",
            "Epoch 24: saving model to model/keypoint_classifier\\keypoint_classifier.hdf5\n",
            "29/29 [==============================] - 0s 9ms/step - loss: 0.7717 - accuracy: 0.6880 - val_loss: 0.4752 - val_accuracy: 0.9034\n",
            "Epoch 25/1000\n",
            "23/29 [======================>.......] - ETA: 0s - loss: 0.7244 - accuracy: 0.7171\n",
            "Epoch 25: saving model to model/keypoint_classifier\\keypoint_classifier.hdf5\n",
            "29/29 [==============================] - 0s 9ms/step - loss: 0.7312 - accuracy: 0.7156 - val_loss: 0.4610 - val_accuracy: 0.9067\n",
            "Epoch 26/1000\n",
            "26/29 [=========================>....] - ETA: 0s - loss: 0.7369 - accuracy: 0.7097\n",
            "Epoch 26: saving model to model/keypoint_classifier\\keypoint_classifier.hdf5\n",
            "29/29 [==============================] - 0s 8ms/step - loss: 0.7351 - accuracy: 0.7100 - val_loss: 0.4498 - val_accuracy: 0.9067\n",
            "Epoch 27/1000\n",
            "17/29 [================>.............] - ETA: 0s - loss: 0.7485 - accuracy: 0.7017\n",
            "Epoch 27: saving model to model/keypoint_classifier\\keypoint_classifier.hdf5\n",
            "29/29 [==============================] - 0s 7ms/step - loss: 0.7319 - accuracy: 0.7083 - val_loss: 0.4402 - val_accuracy: 0.9131\n",
            "Epoch 28/1000\n",
            "20/29 [===================>..........] - ETA: 0s - loss: 0.7353 - accuracy: 0.7160\n",
            "Epoch 28: saving model to model/keypoint_classifier\\keypoint_classifier.hdf5\n",
            "29/29 [==============================] - 0s 6ms/step - loss: 0.7267 - accuracy: 0.7200 - val_loss: 0.4385 - val_accuracy: 0.9075\n",
            "Epoch 29/1000\n",
            "17/29 [================>.............] - ETA: 0s - loss: 0.7044 - accuracy: 0.7289\n",
            "Epoch 29: saving model to model/keypoint_classifier\\keypoint_classifier.hdf5\n",
            "29/29 [==============================] - 0s 7ms/step - loss: 0.7060 - accuracy: 0.7286 - val_loss: 0.4186 - val_accuracy: 0.9131\n",
            "Epoch 30/1000\n",
            "24/29 [=======================>......] - ETA: 0s - loss: 0.7047 - accuracy: 0.7331\n",
            "Epoch 30: saving model to model/keypoint_classifier\\keypoint_classifier.hdf5\n",
            "29/29 [==============================] - 0s 8ms/step - loss: 0.7033 - accuracy: 0.7305 - val_loss: 0.4164 - val_accuracy: 0.9099\n",
            "Epoch 31/1000\n",
            "17/29 [================>.............] - ETA: 0s - loss: 0.7018 - accuracy: 0.7243\n",
            "Epoch 31: saving model to model/keypoint_classifier\\keypoint_classifier.hdf5\n",
            "29/29 [==============================] - 0s 6ms/step - loss: 0.7095 - accuracy: 0.7192 - val_loss: 0.4160 - val_accuracy: 0.9083\n",
            "Epoch 32/1000\n",
            "19/29 [==================>...........] - ETA: 0s - loss: 0.7005 - accuracy: 0.7229\n",
            "Epoch 32: saving model to model/keypoint_classifier\\keypoint_classifier.hdf5\n",
            "29/29 [==============================] - 0s 6ms/step - loss: 0.7036 - accuracy: 0.7238 - val_loss: 0.4102 - val_accuracy: 0.9131\n",
            "Epoch 33/1000\n",
            "22/29 [=====================>........] - ETA: 0s - loss: 0.6988 - accuracy: 0.7305\n",
            "Epoch 33: saving model to model/keypoint_classifier\\keypoint_classifier.hdf5\n",
            "29/29 [==============================] - 0s 10ms/step - loss: 0.6905 - accuracy: 0.7346 - val_loss: 0.4076 - val_accuracy: 0.9131\n",
            "Epoch 34/1000\n",
            "27/29 [==========================>...] - ETA: 0s - loss: 0.6870 - accuracy: 0.7295\n",
            "Epoch 34: saving model to model/keypoint_classifier\\keypoint_classifier.hdf5\n",
            "29/29 [==============================] - 0s 8ms/step - loss: 0.6833 - accuracy: 0.7324 - val_loss: 0.4007 - val_accuracy: 0.9131\n",
            "Epoch 35/1000\n",
            "21/29 [====================>.........] - ETA: 0s - loss: 0.6880 - accuracy: 0.7381\n",
            "Epoch 35: saving model to model/keypoint_classifier\\keypoint_classifier.hdf5\n",
            "29/29 [==============================] - 0s 5ms/step - loss: 0.6895 - accuracy: 0.7354 - val_loss: 0.4001 - val_accuracy: 0.9115\n",
            "Epoch 36/1000\n",
            "20/29 [===================>..........] - ETA: 0s - loss: 0.6781 - accuracy: 0.7348\n",
            "Epoch 36: saving model to model/keypoint_classifier\\keypoint_classifier.hdf5\n",
            "29/29 [==============================] - 0s 6ms/step - loss: 0.6759 - accuracy: 0.7357 - val_loss: 0.3976 - val_accuracy: 0.9091\n",
            "Epoch 37/1000\n",
            "26/29 [=========================>....] - ETA: 0s - loss: 0.6999 - accuracy: 0.7299\n",
            "Epoch 37: saving model to model/keypoint_classifier\\keypoint_classifier.hdf5\n",
            "29/29 [==============================] - 0s 8ms/step - loss: 0.6964 - accuracy: 0.7311 - val_loss: 0.3897 - val_accuracy: 0.9123\n",
            "Epoch 38/1000\n",
            "26/29 [=========================>....] - ETA: 0s - loss: 0.6470 - accuracy: 0.7476\n",
            "Epoch 38: saving model to model/keypoint_classifier\\keypoint_classifier.hdf5\n",
            "29/29 [==============================] - 0s 8ms/step - loss: 0.6437 - accuracy: 0.7495 - val_loss: 0.3821 - val_accuracy: 0.9164\n",
            "Epoch 39/1000\n",
            "24/29 [=======================>......] - ETA: 0s - loss: 0.6595 - accuracy: 0.7409\n",
            "Epoch 39: saving model to model/keypoint_classifier\\keypoint_classifier.hdf5\n",
            "29/29 [==============================] - 0s 8ms/step - loss: 0.6676 - accuracy: 0.7370 - val_loss: 0.3849 - val_accuracy: 0.9107\n",
            "Epoch 40/1000\n",
            "29/29 [==============================] - ETA: 0s - loss: 0.6723 - accuracy: 0.7457\n",
            "Epoch 40: saving model to model/keypoint_classifier\\keypoint_classifier.hdf5\n",
            "29/29 [==============================] - 0s 7ms/step - loss: 0.6723 - accuracy: 0.7457 - val_loss: 0.3779 - val_accuracy: 0.9172\n",
            "Epoch 41/1000\n",
            "13/29 [============>.................] - ETA: 0s - loss: 0.6741 - accuracy: 0.7512\n",
            "Epoch 41: saving model to model/keypoint_classifier\\keypoint_classifier.hdf5\n",
            "29/29 [==============================] - 0s 7ms/step - loss: 0.6650 - accuracy: 0.7500 - val_loss: 0.3755 - val_accuracy: 0.9188\n",
            "Epoch 42/1000\n",
            "24/29 [=======================>......] - ETA: 0s - loss: 0.6515 - accuracy: 0.7513\n",
            "Epoch 42: saving model to model/keypoint_classifier\\keypoint_classifier.hdf5\n",
            "29/29 [==============================] - 0s 9ms/step - loss: 0.6512 - accuracy: 0.7551 - val_loss: 0.3690 - val_accuracy: 0.9164\n",
            "Epoch 43/1000\n",
            "23/29 [======================>.......] - ETA: 0s - loss: 0.6405 - accuracy: 0.7544\n",
            "Epoch 43: saving model to model/keypoint_classifier\\keypoint_classifier.hdf5\n",
            "29/29 [==============================] - 0s 7ms/step - loss: 0.6418 - accuracy: 0.7551 - val_loss: 0.3679 - val_accuracy: 0.9140\n",
            "Epoch 44/1000\n",
            "22/29 [=====================>........] - ETA: 0s - loss: 0.6237 - accuracy: 0.7681\n",
            "Epoch 44: saving model to model/keypoint_classifier\\keypoint_classifier.hdf5\n",
            "29/29 [==============================] - 0s 6ms/step - loss: 0.6301 - accuracy: 0.7668 - val_loss: 0.3663 - val_accuracy: 0.9148\n",
            "Epoch 45/1000\n",
            "26/29 [=========================>....] - ETA: 0s - loss: 0.6478 - accuracy: 0.7467\n",
            "Epoch 45: saving model to model/keypoint_classifier\\keypoint_classifier.hdf5\n",
            "29/29 [==============================] - 0s 8ms/step - loss: 0.6479 - accuracy: 0.7459 - val_loss: 0.3676 - val_accuracy: 0.9083\n",
            "Epoch 46/1000\n",
            "26/29 [=========================>....] - ETA: 0s - loss: 0.6535 - accuracy: 0.7524\n",
            "Epoch 46: saving model to model/keypoint_classifier\\keypoint_classifier.hdf5\n",
            "29/29 [==============================] - 0s 8ms/step - loss: 0.6523 - accuracy: 0.7514 - val_loss: 0.3650 - val_accuracy: 0.9075\n",
            "Epoch 47/1000\n",
            "21/29 [====================>.........] - ETA: 0s - loss: 0.6575 - accuracy: 0.7459\n",
            "Epoch 47: saving model to model/keypoint_classifier\\keypoint_classifier.hdf5\n",
            "29/29 [==============================] - 0s 8ms/step - loss: 0.6471 - accuracy: 0.7560 - val_loss: 0.3622 - val_accuracy: 0.9196\n",
            "Epoch 48/1000\n",
            "18/29 [=================>............] - ETA: 0s - loss: 0.6450 - accuracy: 0.7513\n",
            "Epoch 48: saving model to model/keypoint_classifier\\keypoint_classifier.hdf5\n",
            "29/29 [==============================] - 0s 6ms/step - loss: 0.6474 - accuracy: 0.7530 - val_loss: 0.3650 - val_accuracy: 0.9172\n",
            "Epoch 49/1000\n",
            "18/29 [=================>............] - ETA: 0s - loss: 0.6451 - accuracy: 0.7500\n",
            "Epoch 49: saving model to model/keypoint_classifier\\keypoint_classifier.hdf5\n",
            "29/29 [==============================] - 0s 7ms/step - loss: 0.6363 - accuracy: 0.7543 - val_loss: 0.3517 - val_accuracy: 0.9221\n",
            "Epoch 50/1000\n",
            "24/29 [=======================>......] - ETA: 0s - loss: 0.6450 - accuracy: 0.7552\n",
            "Epoch 50: saving model to model/keypoint_classifier\\keypoint_classifier.hdf5\n",
            "29/29 [==============================] - 0s 10ms/step - loss: 0.6381 - accuracy: 0.7557 - val_loss: 0.3629 - val_accuracy: 0.9058\n",
            "Epoch 51/1000\n",
            "25/29 [========================>.....] - ETA: 0s - loss: 0.6251 - accuracy: 0.7688\n",
            "Epoch 51: saving model to model/keypoint_classifier\\keypoint_classifier.hdf5\n",
            "29/29 [==============================] - 0s 9ms/step - loss: 0.6352 - accuracy: 0.7670 - val_loss: 0.3549 - val_accuracy: 0.9229\n",
            "Epoch 52/1000\n",
            "24/29 [=======================>......] - ETA: 0s - loss: 0.6222 - accuracy: 0.7728\n",
            "Epoch 52: saving model to model/keypoint_classifier\\keypoint_classifier.hdf5\n",
            "29/29 [==============================] - 0s 9ms/step - loss: 0.6203 - accuracy: 0.7725 - val_loss: 0.3513 - val_accuracy: 0.9164\n",
            "Epoch 53/1000\n",
            "25/29 [========================>.....] - ETA: 0s - loss: 0.6132 - accuracy: 0.7675\n",
            "Epoch 53: saving model to model/keypoint_classifier\\keypoint_classifier.hdf5\n",
            "29/29 [==============================] - 0s 10ms/step - loss: 0.6183 - accuracy: 0.7670 - val_loss: 0.3486 - val_accuracy: 0.9140\n",
            "Epoch 54/1000\n",
            "24/29 [=======================>......] - ETA: 0s - loss: 0.6308 - accuracy: 0.7656\n",
            "Epoch 54: saving model to model/keypoint_classifier\\keypoint_classifier.hdf5\n",
            "29/29 [==============================] - 0s 8ms/step - loss: 0.6397 - accuracy: 0.7608 - val_loss: 0.3463 - val_accuracy: 0.9115\n",
            "Epoch 55/1000\n",
            "24/29 [=======================>......] - ETA: 0s - loss: 0.6251 - accuracy: 0.7734\n",
            "Epoch 55: saving model to model/keypoint_classifier\\keypoint_classifier.hdf5\n",
            "29/29 [==============================] - 0s 10ms/step - loss: 0.6205 - accuracy: 0.7730 - val_loss: 0.3457 - val_accuracy: 0.9172\n",
            "Epoch 56/1000\n",
            "23/29 [======================>.......] - ETA: 0s - loss: 0.6150 - accuracy: 0.7649\n",
            "Epoch 56: saving model to model/keypoint_classifier\\keypoint_classifier.hdf5\n",
            "29/29 [==============================] - 0s 9ms/step - loss: 0.6082 - accuracy: 0.7700 - val_loss: 0.3366 - val_accuracy: 0.9156\n",
            "Epoch 57/1000\n",
            "17/29 [================>.............] - ETA: 0s - loss: 0.6316 - accuracy: 0.7629\n",
            "Epoch 57: saving model to model/keypoint_classifier\\keypoint_classifier.hdf5\n",
            "29/29 [==============================] - 0s 7ms/step - loss: 0.6238 - accuracy: 0.7676 - val_loss: 0.3420 - val_accuracy: 0.9180\n",
            "Epoch 58/1000\n",
            "15/29 [==============>...............] - ETA: 0s - loss: 0.6042 - accuracy: 0.7677\n",
            "Epoch 58: saving model to model/keypoint_classifier\\keypoint_classifier.hdf5\n",
            "29/29 [==============================] - 0s 8ms/step - loss: 0.6179 - accuracy: 0.7668 - val_loss: 0.3359 - val_accuracy: 0.9205\n",
            "Epoch 59/1000\n",
            "27/29 [==========================>...] - ETA: 0s - loss: 0.6133 - accuracy: 0.7636\n",
            "Epoch 59: saving model to model/keypoint_classifier\\keypoint_classifier.hdf5\n",
            "29/29 [==============================] - 0s 8ms/step - loss: 0.6168 - accuracy: 0.7608 - val_loss: 0.3325 - val_accuracy: 0.9221\n",
            "Epoch 60/1000\n",
            "27/29 [==========================>...] - ETA: 0s - loss: 0.6231 - accuracy: 0.7677\n",
            "Epoch 60: saving model to model/keypoint_classifier\\keypoint_classifier.hdf5\n",
            "29/29 [==============================] - 0s 8ms/step - loss: 0.6210 - accuracy: 0.7681 - val_loss: 0.3378 - val_accuracy: 0.9188\n",
            "Epoch 61/1000\n",
            "16/29 [===============>..............] - ETA: 0s - loss: 0.5860 - accuracy: 0.7861\n",
            "Epoch 61: saving model to model/keypoint_classifier\\keypoint_classifier.hdf5\n",
            "29/29 [==============================] - 0s 7ms/step - loss: 0.5918 - accuracy: 0.7860 - val_loss: 0.3358 - val_accuracy: 0.9237\n",
            "Epoch 62/1000\n",
            "12/29 [===========>..................] - ETA: 0s - loss: 0.5858 - accuracy: 0.7773\n",
            "Epoch 62: saving model to model/keypoint_classifier\\keypoint_classifier.hdf5\n",
            "29/29 [==============================] - 0s 8ms/step - loss: 0.6017 - accuracy: 0.7706 - val_loss: 0.3316 - val_accuracy: 0.9237\n",
            "Epoch 63/1000\n",
            "23/29 [======================>.......] - ETA: 0s - loss: 0.6098 - accuracy: 0.7636\n",
            "Epoch 63: saving model to model/keypoint_classifier\\keypoint_classifier.hdf5\n",
            "29/29 [==============================] - 0s 8ms/step - loss: 0.6064 - accuracy: 0.7695 - val_loss: 0.3364 - val_accuracy: 0.9188\n",
            "Epoch 64/1000\n",
            "25/29 [========================>.....] - ETA: 0s - loss: 0.6142 - accuracy: 0.7825\n",
            "Epoch 64: saving model to model/keypoint_classifier\\keypoint_classifier.hdf5\n",
            "29/29 [==============================] - 0s 8ms/step - loss: 0.6187 - accuracy: 0.7808 - val_loss: 0.3260 - val_accuracy: 0.9237\n",
            "Epoch 65/1000\n",
            "24/29 [=======================>......] - ETA: 0s - loss: 0.5988 - accuracy: 0.7887\n",
            "Epoch 65: saving model to model/keypoint_classifier\\keypoint_classifier.hdf5\n",
            "29/29 [==============================] - 0s 9ms/step - loss: 0.5879 - accuracy: 0.7917 - val_loss: 0.3248 - val_accuracy: 0.9221\n",
            "Epoch 66/1000\n",
            "25/29 [========================>.....] - ETA: 0s - loss: 0.5868 - accuracy: 0.7862\n",
            "Epoch 66: saving model to model/keypoint_classifier\\keypoint_classifier.hdf5\n",
            "29/29 [==============================] - 0s 9ms/step - loss: 0.5949 - accuracy: 0.7827 - val_loss: 0.3193 - val_accuracy: 0.9253\n",
            "Epoch 67/1000\n",
            "27/29 [==========================>...] - ETA: 0s - loss: 0.6066 - accuracy: 0.7784\n",
            "Epoch 67: saving model to model/keypoint_classifier\\keypoint_classifier.hdf5\n",
            "29/29 [==============================] - 0s 8ms/step - loss: 0.6098 - accuracy: 0.7771 - val_loss: 0.3230 - val_accuracy: 0.9294\n",
            "Epoch 68/1000\n",
            "23/29 [======================>.......] - ETA: 0s - loss: 0.6057 - accuracy: 0.7741\n",
            "Epoch 68: saving model to model/keypoint_classifier\\keypoint_classifier.hdf5\n",
            "29/29 [==============================] - 0s 9ms/step - loss: 0.6016 - accuracy: 0.7752 - val_loss: 0.3265 - val_accuracy: 0.9237\n",
            "Epoch 69/1000\n",
            "24/29 [=======================>......] - ETA: 0s - loss: 0.5946 - accuracy: 0.7809\n",
            "Epoch 69: saving model to model/keypoint_classifier\\keypoint_classifier.hdf5\n",
            "29/29 [==============================] - 0s 9ms/step - loss: 0.5942 - accuracy: 0.7830 - val_loss: 0.3227 - val_accuracy: 0.9278\n",
            "Epoch 70/1000\n",
            "23/29 [======================>.......] - ETA: 0s - loss: 0.6060 - accuracy: 0.7819\n",
            "Epoch 70: saving model to model/keypoint_classifier\\keypoint_classifier.hdf5\n",
            "29/29 [==============================] - 0s 10ms/step - loss: 0.5999 - accuracy: 0.7781 - val_loss: 0.3284 - val_accuracy: 0.9205\n",
            "Epoch 71/1000\n",
            "23/29 [======================>.......] - ETA: 0s - loss: 0.5726 - accuracy: 0.7846\n",
            "Epoch 71: saving model to model/keypoint_classifier\\keypoint_classifier.hdf5\n",
            "29/29 [==============================] - 0s 8ms/step - loss: 0.5777 - accuracy: 0.7844 - val_loss: 0.3198 - val_accuracy: 0.9237\n",
            "Epoch 72/1000\n",
            "16/29 [===============>..............] - ETA: 0s - loss: 0.6072 - accuracy: 0.7896\n",
            "Epoch 72: saving model to model/keypoint_classifier\\keypoint_classifier.hdf5\n",
            "29/29 [==============================] - 0s 7ms/step - loss: 0.5964 - accuracy: 0.7906 - val_loss: 0.3183 - val_accuracy: 0.9269\n",
            "Epoch 73/1000\n",
            "16/29 [===============>..............] - ETA: 0s - loss: 0.5982 - accuracy: 0.7812\n",
            "Epoch 73: saving model to model/keypoint_classifier\\keypoint_classifier.hdf5\n",
            "29/29 [==============================] - 0s 7ms/step - loss: 0.5925 - accuracy: 0.7798 - val_loss: 0.3235 - val_accuracy: 0.9245\n",
            "Epoch 74/1000\n",
            "25/29 [========================>.....] - ETA: 0s - loss: 0.5608 - accuracy: 0.7944\n",
            "Epoch 74: saving model to model/keypoint_classifier\\keypoint_classifier.hdf5\n",
            "29/29 [==============================] - 0s 10ms/step - loss: 0.5662 - accuracy: 0.7927 - val_loss: 0.3169 - val_accuracy: 0.9229\n",
            "Epoch 75/1000\n",
            "23/29 [======================>.......] - ETA: 0s - loss: 0.5900 - accuracy: 0.7789\n",
            "Epoch 75: saving model to model/keypoint_classifier\\keypoint_classifier.hdf5\n",
            "29/29 [==============================] - 0s 9ms/step - loss: 0.5936 - accuracy: 0.7792 - val_loss: 0.3182 - val_accuracy: 0.9318\n",
            "Epoch 76/1000\n",
            "23/29 [======================>.......] - ETA: 0s - loss: 0.6196 - accuracy: 0.7694\n",
            "Epoch 76: saving model to model/keypoint_classifier\\keypoint_classifier.hdf5\n",
            "29/29 [==============================] - 0s 9ms/step - loss: 0.6055 - accuracy: 0.7762 - val_loss: 0.3193 - val_accuracy: 0.9278\n",
            "Epoch 77/1000\n",
            "13/29 [============>.................] - ETA: 0s - loss: 0.5713 - accuracy: 0.7806\n",
            "Epoch 77: saving model to model/keypoint_classifier\\keypoint_classifier.hdf5\n",
            "29/29 [==============================] - 0s 6ms/step - loss: 0.5797 - accuracy: 0.7835 - val_loss: 0.3254 - val_accuracy: 0.9237\n",
            "Epoch 78/1000\n",
            "20/29 [===================>..........] - ETA: 0s - loss: 0.5578 - accuracy: 0.8000\n",
            "Epoch 78: saving model to model/keypoint_classifier\\keypoint_classifier.hdf5\n",
            "29/29 [==============================] - 0s 6ms/step - loss: 0.5561 - accuracy: 0.8030 - val_loss: 0.3036 - val_accuracy: 0.9318\n",
            "Epoch 79/1000\n",
            "21/29 [====================>.........] - ETA: 0s - loss: 0.5820 - accuracy: 0.7883\n",
            "Epoch 79: saving model to model/keypoint_classifier\\keypoint_classifier.hdf5\n",
            "29/29 [==============================] - 0s 6ms/step - loss: 0.5747 - accuracy: 0.7863 - val_loss: 0.3112 - val_accuracy: 0.9245\n",
            "Epoch 80/1000\n",
            "24/29 [=======================>......] - ETA: 0s - loss: 0.5887 - accuracy: 0.7809\n",
            "Epoch 80: saving model to model/keypoint_classifier\\keypoint_classifier.hdf5\n",
            "29/29 [==============================] - 0s 10ms/step - loss: 0.5864 - accuracy: 0.7808 - val_loss: 0.3073 - val_accuracy: 0.9269\n",
            "Epoch 81/1000\n",
            "12/29 [===========>..................] - ETA: 0s - loss: 0.5763 - accuracy: 0.7852\n",
            "Epoch 81: saving model to model/keypoint_classifier\\keypoint_classifier.hdf5\n",
            "29/29 [==============================] - 0s 7ms/step - loss: 0.5762 - accuracy: 0.7887 - val_loss: 0.3175 - val_accuracy: 0.9245\n",
            "Epoch 82/1000\n",
            "23/29 [======================>.......] - ETA: 0s - loss: 0.5638 - accuracy: 0.7969\n",
            "Epoch 82: saving model to model/keypoint_classifier\\keypoint_classifier.hdf5\n",
            "29/29 [==============================] - 0s 9ms/step - loss: 0.5730 - accuracy: 0.7922 - val_loss: 0.3105 - val_accuracy: 0.9261\n",
            "Epoch 83/1000\n",
            "24/29 [=======================>......] - ETA: 0s - loss: 0.5873 - accuracy: 0.7900\n",
            "Epoch 83: saving model to model/keypoint_classifier\\keypoint_classifier.hdf5\n",
            "29/29 [==============================] - 0s 9ms/step - loss: 0.5802 - accuracy: 0.7941 - val_loss: 0.3078 - val_accuracy: 0.9286\n",
            "Epoch 84/1000\n",
            "23/29 [======================>.......] - ETA: 0s - loss: 0.6068 - accuracy: 0.7775\n",
            "Epoch 84: saving model to model/keypoint_classifier\\keypoint_classifier.hdf5\n",
            "29/29 [==============================] - 0s 9ms/step - loss: 0.5984 - accuracy: 0.7765 - val_loss: 0.3155 - val_accuracy: 0.9229\n",
            "Epoch 85/1000\n",
            "24/29 [=======================>......] - ETA: 0s - loss: 0.5628 - accuracy: 0.7972\n",
            "Epoch 85: saving model to model/keypoint_classifier\\keypoint_classifier.hdf5\n",
            "29/29 [==============================] - 0s 9ms/step - loss: 0.5772 - accuracy: 0.7925 - val_loss: 0.3044 - val_accuracy: 0.9253\n",
            "Epoch 86/1000\n",
            "16/29 [===============>..............] - ETA: 0s - loss: 0.5703 - accuracy: 0.7891\n",
            "Epoch 86: saving model to model/keypoint_classifier\\keypoint_classifier.hdf5\n",
            "29/29 [==============================] - 0s 7ms/step - loss: 0.5734 - accuracy: 0.7903 - val_loss: 0.3031 - val_accuracy: 0.9278\n",
            "Epoch 87/1000\n",
            "17/29 [================>.............] - ETA: 0s - loss: 0.5435 - accuracy: 0.8038\n",
            "Epoch 87: saving model to model/keypoint_classifier\\keypoint_classifier.hdf5\n",
            "29/29 [==============================] - 0s 7ms/step - loss: 0.5654 - accuracy: 0.7949 - val_loss: 0.2999 - val_accuracy: 0.9334\n",
            "Epoch 88/1000\n",
            "24/29 [=======================>......] - ETA: 0s - loss: 0.5845 - accuracy: 0.7796\n",
            "Epoch 88: saving model to model/keypoint_classifier\\keypoint_classifier.hdf5\n",
            "29/29 [==============================] - 0s 10ms/step - loss: 0.5838 - accuracy: 0.7822 - val_loss: 0.3078 - val_accuracy: 0.9261\n",
            "Epoch 89/1000\n",
            "24/29 [=======================>......] - ETA: 0s - loss: 0.5856 - accuracy: 0.7907\n",
            "Epoch 89: saving model to model/keypoint_classifier\\keypoint_classifier.hdf5\n",
            "29/29 [==============================] - 0s 9ms/step - loss: 0.5809 - accuracy: 0.7930 - val_loss: 0.3047 - val_accuracy: 0.9294\n",
            "Epoch 90/1000\n",
            "24/29 [=======================>......] - ETA: 0s - loss: 0.5860 - accuracy: 0.7835\n",
            "Epoch 90: saving model to model/keypoint_classifier\\keypoint_classifier.hdf5\n",
            "29/29 [==============================] - 0s 10ms/step - loss: 0.5839 - accuracy: 0.7808 - val_loss: 0.3004 - val_accuracy: 0.9318\n",
            "Epoch 91/1000\n",
            "23/29 [======================>.......] - ETA: 0s - loss: 0.5515 - accuracy: 0.8033\n",
            "Epoch 91: saving model to model/keypoint_classifier\\keypoint_classifier.hdf5\n",
            "29/29 [==============================] - 0s 8ms/step - loss: 0.5507 - accuracy: 0.8065 - val_loss: 0.2977 - val_accuracy: 0.9269\n",
            "Epoch 92/1000\n",
            "26/29 [=========================>....] - ETA: 0s - loss: 0.5477 - accuracy: 0.8044\n",
            "Epoch 92: saving model to model/keypoint_classifier\\keypoint_classifier.hdf5\n",
            "29/29 [==============================] - 0s 7ms/step - loss: 0.5506 - accuracy: 0.8025 - val_loss: 0.3035 - val_accuracy: 0.9253\n",
            "Epoch 93/1000\n",
            "18/29 [=================>............] - ETA: 0s - loss: 0.5850 - accuracy: 0.7899\n",
            "Epoch 93: saving model to model/keypoint_classifier\\keypoint_classifier.hdf5\n",
            "29/29 [==============================] - 0s 6ms/step - loss: 0.5778 - accuracy: 0.7925 - val_loss: 0.3111 - val_accuracy: 0.9229\n",
            "Epoch 94/1000\n",
            "18/29 [=================>............] - ETA: 0s - loss: 0.5579 - accuracy: 0.7912\n",
            "Epoch 94: saving model to model/keypoint_classifier\\keypoint_classifier.hdf5\n",
            "29/29 [==============================] - 0s 7ms/step - loss: 0.5707 - accuracy: 0.7833 - val_loss: 0.3020 - val_accuracy: 0.9269\n",
            "Epoch 95/1000\n",
            "19/29 [==================>...........] - ETA: 0s - loss: 0.5699 - accuracy: 0.7985\n",
            "Epoch 95: saving model to model/keypoint_classifier\\keypoint_classifier.hdf5\n",
            "29/29 [==============================] - 0s 7ms/step - loss: 0.5562 - accuracy: 0.8009 - val_loss: 0.3030 - val_accuracy: 0.9261\n",
            "Epoch 96/1000\n",
            "16/29 [===============>..............] - ETA: 0s - loss: 0.5603 - accuracy: 0.8003\n",
            "Epoch 96: saving model to model/keypoint_classifier\\keypoint_classifier.hdf5\n",
            "29/29 [==============================] - 0s 8ms/step - loss: 0.5540 - accuracy: 0.8003 - val_loss: 0.3060 - val_accuracy: 0.9286\n",
            "Epoch 97/1000\n",
            "25/29 [========================>.....] - ETA: 0s - loss: 0.5700 - accuracy: 0.7903\n",
            "Epoch 97: saving model to model/keypoint_classifier\\keypoint_classifier.hdf5\n",
            "29/29 [==============================] - 0s 9ms/step - loss: 0.5621 - accuracy: 0.7957 - val_loss: 0.2995 - val_accuracy: 0.9261\n",
            "Epoch 98/1000\n",
            "19/29 [==================>...........] - ETA: 0s - loss: 0.5671 - accuracy: 0.7952\n",
            "Epoch 98: saving model to model/keypoint_classifier\\keypoint_classifier.hdf5\n",
            "29/29 [==============================] - 0s 9ms/step - loss: 0.5620 - accuracy: 0.7957 - val_loss: 0.3016 - val_accuracy: 0.9237\n",
            "Epoch 99/1000\n",
            "29/29 [==============================] - ETA: 0s - loss: 0.5662 - accuracy: 0.7949\n",
            "Epoch 99: saving model to model/keypoint_classifier\\keypoint_classifier.hdf5\n",
            "29/29 [==============================] - 0s 7ms/step - loss: 0.5662 - accuracy: 0.7949 - val_loss: 0.2953 - val_accuracy: 0.9334\n",
            "Epoch 100/1000\n",
            "25/29 [========================>.....] - ETA: 0s - loss: 0.5887 - accuracy: 0.7891\n",
            "Epoch 100: saving model to model/keypoint_classifier\\keypoint_classifier.hdf5\n",
            "29/29 [==============================] - 0s 8ms/step - loss: 0.5820 - accuracy: 0.7903 - val_loss: 0.2982 - val_accuracy: 0.9326\n",
            "Epoch 101/1000\n",
            "24/29 [=======================>......] - ETA: 0s - loss: 0.5599 - accuracy: 0.8031\n",
            "Epoch 101: saving model to model/keypoint_classifier\\keypoint_classifier.hdf5\n",
            "29/29 [==============================] - 0s 9ms/step - loss: 0.5573 - accuracy: 0.8009 - val_loss: 0.2955 - val_accuracy: 0.9269\n",
            "Epoch 102/1000\n",
            "25/29 [========================>.....] - ETA: 0s - loss: 0.5754 - accuracy: 0.7947\n",
            "Epoch 102: saving model to model/keypoint_classifier\\keypoint_classifier.hdf5\n",
            "29/29 [==============================] - 0s 9ms/step - loss: 0.5683 - accuracy: 0.7973 - val_loss: 0.3045 - val_accuracy: 0.9269\n",
            "Epoch 103/1000\n",
            "24/29 [=======================>......] - ETA: 0s - loss: 0.5553 - accuracy: 0.8044\n",
            "Epoch 103: saving model to model/keypoint_classifier\\keypoint_classifier.hdf5\n",
            "29/29 [==============================] - 0s 10ms/step - loss: 0.5539 - accuracy: 0.8036 - val_loss: 0.2989 - val_accuracy: 0.9253\n",
            "Epoch 104/1000\n",
            "25/29 [========================>.....] - ETA: 0s - loss: 0.5529 - accuracy: 0.7984\n",
            "Epoch 104: saving model to model/keypoint_classifier\\keypoint_classifier.hdf5\n",
            "29/29 [==============================] - 0s 8ms/step - loss: 0.5593 - accuracy: 0.7963 - val_loss: 0.2982 - val_accuracy: 0.9253\n",
            "Epoch 105/1000\n",
            "25/29 [========================>.....] - ETA: 0s - loss: 0.5534 - accuracy: 0.8075\n",
            "Epoch 105: saving model to model/keypoint_classifier\\keypoint_classifier.hdf5\n",
            "29/29 [==============================] - 0s 8ms/step - loss: 0.5492 - accuracy: 0.8079 - val_loss: 0.2975 - val_accuracy: 0.9294\n",
            "Epoch 106/1000\n",
            "15/29 [==============>...............] - ETA: 0s - loss: 0.5695 - accuracy: 0.7880\n",
            "Epoch 106: saving model to model/keypoint_classifier\\keypoint_classifier.hdf5\n",
            "29/29 [==============================] - 0s 7ms/step - loss: 0.5575 - accuracy: 0.7909 - val_loss: 0.2944 - val_accuracy: 0.9318\n",
            "Epoch 107/1000\n",
            "28/29 [===========================>..] - ETA: 0s - loss: 0.5421 - accuracy: 0.8064\n",
            "Epoch 107: saving model to model/keypoint_classifier\\keypoint_classifier.hdf5\n",
            "29/29 [==============================] - 0s 7ms/step - loss: 0.5456 - accuracy: 0.8047 - val_loss: 0.2963 - val_accuracy: 0.9253\n",
            "Epoch 108/1000\n",
            "24/29 [=======================>......] - ETA: 0s - loss: 0.5833 - accuracy: 0.7917\n",
            "Epoch 108: saving model to model/keypoint_classifier\\keypoint_classifier.hdf5\n",
            "29/29 [==============================] - 0s 9ms/step - loss: 0.5785 - accuracy: 0.7919 - val_loss: 0.2946 - val_accuracy: 0.9302\n",
            "Epoch 109/1000\n",
            "29/29 [==============================] - ETA: 0s - loss: 0.5519 - accuracy: 0.7990\n",
            "Epoch 109: saving model to model/keypoint_classifier\\keypoint_classifier.hdf5\n",
            "29/29 [==============================] - 0s 7ms/step - loss: 0.5519 - accuracy: 0.7990 - val_loss: 0.2893 - val_accuracy: 0.9334\n",
            "Epoch 110/1000\n",
            "14/29 [=============>................] - ETA: 0s - loss: 0.5256 - accuracy: 0.8103\n",
            "Epoch 110: saving model to model/keypoint_classifier\\keypoint_classifier.hdf5\n",
            "29/29 [==============================] - 0s 6ms/step - loss: 0.5521 - accuracy: 0.8074 - val_loss: 0.2955 - val_accuracy: 0.9253\n",
            "Epoch 111/1000\n",
            "19/29 [==================>...........] - ETA: 0s - loss: 0.5527 - accuracy: 0.8010\n",
            "Epoch 111: saving model to model/keypoint_classifier\\keypoint_classifier.hdf5\n",
            "29/29 [==============================] - 0s 6ms/step - loss: 0.5510 - accuracy: 0.8011 - val_loss: 0.2912 - val_accuracy: 0.9318\n",
            "Epoch 112/1000\n",
            "23/29 [======================>.......] - ETA: 0s - loss: 0.5494 - accuracy: 0.7979\n",
            "Epoch 112: saving model to model/keypoint_classifier\\keypoint_classifier.hdf5\n",
            "29/29 [==============================] - 0s 9ms/step - loss: 0.5481 - accuracy: 0.8019 - val_loss: 0.2991 - val_accuracy: 0.9294\n",
            "Epoch 113/1000\n",
            "23/29 [======================>.......] - ETA: 0s - loss: 0.5484 - accuracy: 0.8010\n",
            "Epoch 113: saving model to model/keypoint_classifier\\keypoint_classifier.hdf5\n",
            "29/29 [==============================] - 0s 10ms/step - loss: 0.5612 - accuracy: 0.7955 - val_loss: 0.2916 - val_accuracy: 0.9326\n",
            "Epoch 114/1000\n",
            "24/29 [=======================>......] - ETA: 0s - loss: 0.5331 - accuracy: 0.8115\n",
            "Epoch 114: saving model to model/keypoint_classifier\\keypoint_classifier.hdf5\n",
            "29/29 [==============================] - 0s 8ms/step - loss: 0.5422 - accuracy: 0.8082 - val_loss: 0.3021 - val_accuracy: 0.9269\n",
            "Epoch 115/1000\n",
            "24/29 [=======================>......] - ETA: 0s - loss: 0.5572 - accuracy: 0.8102\n",
            "Epoch 115: saving model to model/keypoint_classifier\\keypoint_classifier.hdf5\n",
            "29/29 [==============================] - 0s 8ms/step - loss: 0.5564 - accuracy: 0.8093 - val_loss: 0.2914 - val_accuracy: 0.9318\n",
            "Epoch 116/1000\n",
            "23/29 [======================>.......] - ETA: 0s - loss: 0.5196 - accuracy: 0.8207\n",
            "Epoch 116: saving model to model/keypoint_classifier\\keypoint_classifier.hdf5\n",
            "29/29 [==============================] - 0s 8ms/step - loss: 0.5296 - accuracy: 0.8149 - val_loss: 0.2891 - val_accuracy: 0.9253\n",
            "Epoch 117/1000\n",
            "24/29 [=======================>......] - ETA: 0s - loss: 0.5556 - accuracy: 0.7962\n",
            "Epoch 117: saving model to model/keypoint_classifier\\keypoint_classifier.hdf5\n",
            "29/29 [==============================] - 0s 8ms/step - loss: 0.5473 - accuracy: 0.8003 - val_loss: 0.2867 - val_accuracy: 0.9286\n",
            "Epoch 118/1000\n",
            "24/29 [=======================>......] - ETA: 0s - loss: 0.5434 - accuracy: 0.8005\n",
            "Epoch 118: saving model to model/keypoint_classifier\\keypoint_classifier.hdf5\n",
            "29/29 [==============================] - 0s 9ms/step - loss: 0.5484 - accuracy: 0.7982 - val_loss: 0.2848 - val_accuracy: 0.9359\n",
            "Epoch 119/1000\n",
            "13/29 [============>.................] - ETA: 0s - loss: 0.5465 - accuracy: 0.8059\n",
            "Epoch 119: saving model to model/keypoint_classifier\\keypoint_classifier.hdf5\n",
            "29/29 [==============================] - 0s 7ms/step - loss: 0.5519 - accuracy: 0.8014 - val_loss: 0.2909 - val_accuracy: 0.9286\n",
            "Epoch 120/1000\n",
            "25/29 [========================>.....] - ETA: 0s - loss: 0.5484 - accuracy: 0.8031\n",
            "Epoch 120: saving model to model/keypoint_classifier\\keypoint_classifier.hdf5\n",
            "29/29 [==============================] - 0s 7ms/step - loss: 0.5405 - accuracy: 0.8065 - val_loss: 0.2899 - val_accuracy: 0.9261\n",
            "Epoch 121/1000\n",
            "21/29 [====================>.........] - ETA: 0s - loss: 0.5158 - accuracy: 0.8222\n",
            "Epoch 121: saving model to model/keypoint_classifier\\keypoint_classifier.hdf5\n",
            "29/29 [==============================] - 0s 7ms/step - loss: 0.5285 - accuracy: 0.8139 - val_loss: 0.2836 - val_accuracy: 0.9302\n",
            "Epoch 122/1000\n",
            "24/29 [=======================>......] - ETA: 0s - loss: 0.5525 - accuracy: 0.8001\n",
            "Epoch 122: saving model to model/keypoint_classifier\\keypoint_classifier.hdf5\n",
            "29/29 [==============================] - 0s 10ms/step - loss: 0.5521 - accuracy: 0.8019 - val_loss: 0.2902 - val_accuracy: 0.9310\n",
            "Epoch 123/1000\n",
            "25/29 [========================>.....] - ETA: 0s - loss: 0.5262 - accuracy: 0.8050\n",
            "Epoch 123: saving model to model/keypoint_classifier\\keypoint_classifier.hdf5\n",
            "29/29 [==============================] - 0s 9ms/step - loss: 0.5221 - accuracy: 0.8079 - val_loss: 0.2918 - val_accuracy: 0.9302\n",
            "Epoch 124/1000\n",
            "24/29 [=======================>......] - ETA: 0s - loss: 0.5539 - accuracy: 0.7998\n",
            "Epoch 124: saving model to model/keypoint_classifier\\keypoint_classifier.hdf5\n",
            "29/29 [==============================] - 0s 9ms/step - loss: 0.5574 - accuracy: 0.7984 - val_loss: 0.2872 - val_accuracy: 0.9318\n",
            "Epoch 125/1000\n",
            "24/29 [=======================>......] - ETA: 0s - loss: 0.5109 - accuracy: 0.8158\n",
            "Epoch 125: saving model to model/keypoint_classifier\\keypoint_classifier.hdf5\n",
            "29/29 [==============================] - 0s 7ms/step - loss: 0.5220 - accuracy: 0.8141 - val_loss: 0.2793 - val_accuracy: 0.9326\n",
            "Epoch 126/1000\n",
            "19/29 [==================>...........] - ETA: 0s - loss: 0.5322 - accuracy: 0.8096\n",
            "Epoch 126: saving model to model/keypoint_classifier\\keypoint_classifier.hdf5\n",
            "29/29 [==============================] - 0s 6ms/step - loss: 0.5320 - accuracy: 0.8044 - val_loss: 0.2834 - val_accuracy: 0.9318\n",
            "Epoch 127/1000\n",
            "19/29 [==================>...........] - ETA: 0s - loss: 0.5286 - accuracy: 0.8117\n",
            "Epoch 127: saving model to model/keypoint_classifier\\keypoint_classifier.hdf5\n",
            "29/29 [==============================] - 0s 6ms/step - loss: 0.5210 - accuracy: 0.8128 - val_loss: 0.2882 - val_accuracy: 0.9326\n",
            "Epoch 128/1000\n",
            "18/29 [=================>............] - ETA: 0s - loss: 0.5476 - accuracy: 0.8030\n",
            "Epoch 128: saving model to model/keypoint_classifier\\keypoint_classifier.hdf5\n",
            "29/29 [==============================] - 0s 7ms/step - loss: 0.5366 - accuracy: 0.8087 - val_loss: 0.2873 - val_accuracy: 0.9318\n",
            "Epoch 129/1000\n",
            "27/29 [==========================>...] - ETA: 0s - loss: 0.5283 - accuracy: 0.8125\n",
            "Epoch 129: saving model to model/keypoint_classifier\\keypoint_classifier.hdf5\n",
            "29/29 [==============================] - 0s 9ms/step - loss: 0.5306 - accuracy: 0.8122 - val_loss: 0.2864 - val_accuracy: 0.9286\n",
            "Epoch 130/1000\n",
            "14/29 [=============>................] - ETA: 0s - loss: 0.5160 - accuracy: 0.8192\n",
            "Epoch 130: saving model to model/keypoint_classifier\\keypoint_classifier.hdf5\n",
            "29/29 [==============================] - 0s 7ms/step - loss: 0.5342 - accuracy: 0.8095 - val_loss: 0.2882 - val_accuracy: 0.9286\n",
            "Epoch 131/1000\n",
            "23/29 [======================>.......] - ETA: 0s - loss: 0.5306 - accuracy: 0.8050\n",
            "Epoch 131: saving model to model/keypoint_classifier\\keypoint_classifier.hdf5\n",
            "29/29 [==============================] - 0s 8ms/step - loss: 0.5303 - accuracy: 0.8074 - val_loss: 0.2840 - val_accuracy: 0.9294\n",
            "Epoch 132/1000\n",
            "12/29 [===========>..................] - ETA: 0s - loss: 0.5427 - accuracy: 0.8118\n",
            "Epoch 132: saving model to model/keypoint_classifier\\keypoint_classifier.hdf5\n",
            "29/29 [==============================] - 0s 7ms/step - loss: 0.5199 - accuracy: 0.8185 - val_loss: 0.2821 - val_accuracy: 0.9269\n",
            "Epoch 133/1000\n",
            "25/29 [========================>.....] - ETA: 0s - loss: 0.5512 - accuracy: 0.8003\n",
            "Epoch 133: saving model to model/keypoint_classifier\\keypoint_classifier.hdf5\n",
            "29/29 [==============================] - 0s 9ms/step - loss: 0.5474 - accuracy: 0.8003 - val_loss: 0.2867 - val_accuracy: 0.9269\n",
            "Epoch 134/1000\n",
            "24/29 [=======================>......] - ETA: 0s - loss: 0.5314 - accuracy: 0.8050\n",
            "Epoch 134: saving model to model/keypoint_classifier\\keypoint_classifier.hdf5\n",
            "29/29 [==============================] - 0s 9ms/step - loss: 0.5249 - accuracy: 0.8106 - val_loss: 0.2832 - val_accuracy: 0.9278\n",
            "Epoch 135/1000\n",
            "23/29 [======================>.......] - ETA: 0s - loss: 0.5344 - accuracy: 0.8077\n",
            "Epoch 135: saving model to model/keypoint_classifier\\keypoint_classifier.hdf5\n",
            "29/29 [==============================] - 0s 9ms/step - loss: 0.5272 - accuracy: 0.8098 - val_loss: 0.2778 - val_accuracy: 0.9351\n",
            "Epoch 136/1000\n",
            "20/29 [===================>..........] - ETA: 0s - loss: 0.5368 - accuracy: 0.8070\n",
            "Epoch 136: saving model to model/keypoint_classifier\\keypoint_classifier.hdf5\n",
            "29/29 [==============================] - 0s 10ms/step - loss: 0.5284 - accuracy: 0.8109 - val_loss: 0.2856 - val_accuracy: 0.9318\n",
            "Epoch 137/1000\n",
            "27/29 [==========================>...] - ETA: 0s - loss: 0.5246 - accuracy: 0.8157\n",
            "Epoch 137: saving model to model/keypoint_classifier\\keypoint_classifier.hdf5\n",
            "29/29 [==============================] - 0s 7ms/step - loss: 0.5268 - accuracy: 0.8144 - val_loss: 0.2918 - val_accuracy: 0.9310\n",
            "Epoch 138/1000\n",
            "20/29 [===================>..........] - ETA: 0s - loss: 0.5355 - accuracy: 0.8117\n",
            "Epoch 138: saving model to model/keypoint_classifier\\keypoint_classifier.hdf5\n",
            "29/29 [==============================] - 0s 7ms/step - loss: 0.5279 - accuracy: 0.8149 - val_loss: 0.2807 - val_accuracy: 0.9286\n",
            "Epoch 139/1000\n",
            "23/29 [======================>.......] - ETA: 0s - loss: 0.5295 - accuracy: 0.8183\n",
            "Epoch 139: saving model to model/keypoint_classifier\\keypoint_classifier.hdf5\n",
            "29/29 [==============================] - 0s 10ms/step - loss: 0.5258 - accuracy: 0.8214 - val_loss: 0.2803 - val_accuracy: 0.9326\n",
            "Epoch 140/1000\n",
            "26/29 [=========================>....] - ETA: 0s - loss: 0.5269 - accuracy: 0.8104\n",
            "Epoch 140: saving model to model/keypoint_classifier\\keypoint_classifier.hdf5\n",
            "29/29 [==============================] - 0s 8ms/step - loss: 0.5239 - accuracy: 0.8122 - val_loss: 0.2841 - val_accuracy: 0.9326\n",
            "Epoch 141/1000\n",
            "28/29 [===========================>..] - ETA: 0s - loss: 0.5399 - accuracy: 0.8055\n",
            "Epoch 141: saving model to model/keypoint_classifier\\keypoint_classifier.hdf5\n",
            "29/29 [==============================] - 0s 8ms/step - loss: 0.5414 - accuracy: 0.8044 - val_loss: 0.2894 - val_accuracy: 0.9261\n",
            "Epoch 142/1000\n",
            "24/29 [=======================>......] - ETA: 0s - loss: 0.5296 - accuracy: 0.8187\n",
            "Epoch 142: saving model to model/keypoint_classifier\\keypoint_classifier.hdf5\n",
            "29/29 [==============================] - 0s 8ms/step - loss: 0.5317 - accuracy: 0.8155 - val_loss: 0.2811 - val_accuracy: 0.9294\n",
            "Epoch 143/1000\n",
            "20/29 [===================>..........] - ETA: 0s - loss: 0.4957 - accuracy: 0.8168\n",
            "Epoch 143: saving model to model/keypoint_classifier\\keypoint_classifier.hdf5\n",
            "29/29 [==============================] - 0s 6ms/step - loss: 0.5138 - accuracy: 0.8098 - val_loss: 0.2722 - val_accuracy: 0.9286\n",
            "Epoch 144/1000\n",
            "23/29 [======================>.......] - ETA: 0s - loss: 0.5274 - accuracy: 0.8118\n",
            "Epoch 144: saving model to model/keypoint_classifier\\keypoint_classifier.hdf5\n",
            "29/29 [==============================] - 0s 9ms/step - loss: 0.5305 - accuracy: 0.8079 - val_loss: 0.2816 - val_accuracy: 0.9310\n",
            "Epoch 145/1000\n",
            "24/29 [=======================>......] - ETA: 0s - loss: 0.5474 - accuracy: 0.8141\n",
            "Epoch 145: saving model to model/keypoint_classifier\\keypoint_classifier.hdf5\n",
            "29/29 [==============================] - 0s 10ms/step - loss: 0.5433 - accuracy: 0.8136 - val_loss: 0.2849 - val_accuracy: 0.9286\n",
            "Epoch 146/1000\n",
            "27/29 [==========================>...] - ETA: 0s - loss: 0.5286 - accuracy: 0.8119\n",
            "Epoch 146: saving model to model/keypoint_classifier\\keypoint_classifier.hdf5\n",
            "29/29 [==============================] - 0s 7ms/step - loss: 0.5305 - accuracy: 0.8106 - val_loss: 0.2815 - val_accuracy: 0.9286\n",
            "Epoch 147/1000\n",
            "20/29 [===================>..........] - ETA: 0s - loss: 0.5620 - accuracy: 0.7992\n",
            "Epoch 147: saving model to model/keypoint_classifier\\keypoint_classifier.hdf5\n",
            "29/29 [==============================] - 0s 6ms/step - loss: 0.5459 - accuracy: 0.8019 - val_loss: 0.2852 - val_accuracy: 0.9302\n",
            "Epoch 148/1000\n",
            "25/29 [========================>.....] - ETA: 0s - loss: 0.5206 - accuracy: 0.8166\n",
            "Epoch 148: saving model to model/keypoint_classifier\\keypoint_classifier.hdf5\n",
            "29/29 [==============================] - 0s 9ms/step - loss: 0.5183 - accuracy: 0.8176 - val_loss: 0.2851 - val_accuracy: 0.9310\n",
            "Epoch 149/1000\n",
            "23/29 [======================>.......] - ETA: 0s - loss: 0.5424 - accuracy: 0.8043\n",
            "Epoch 149: saving model to model/keypoint_classifier\\keypoint_classifier.hdf5\n",
            "29/29 [==============================] - 0s 9ms/step - loss: 0.5381 - accuracy: 0.8087 - val_loss: 0.2849 - val_accuracy: 0.9278\n",
            "Epoch 150/1000\n",
            "25/29 [========================>.....] - ETA: 0s - loss: 0.5203 - accuracy: 0.8153\n",
            "Epoch 150: saving model to model/keypoint_classifier\\keypoint_classifier.hdf5\n",
            "29/29 [==============================] - 0s 8ms/step - loss: 0.5233 - accuracy: 0.8139 - val_loss: 0.2840 - val_accuracy: 0.9269\n",
            "Epoch 151/1000\n",
            "17/29 [================>.............] - ETA: 0s - loss: 0.5195 - accuracy: 0.8189\n",
            "Epoch 151: saving model to model/keypoint_classifier\\keypoint_classifier.hdf5\n",
            "29/29 [==============================] - 0s 7ms/step - loss: 0.5063 - accuracy: 0.8222 - val_loss: 0.2809 - val_accuracy: 0.9286\n",
            "Epoch 152/1000\n",
            "26/29 [=========================>....] - ETA: 0s - loss: 0.5352 - accuracy: 0.8107\n",
            "Epoch 152: saving model to model/keypoint_classifier\\keypoint_classifier.hdf5\n",
            "29/29 [==============================] - 0s 8ms/step - loss: 0.5352 - accuracy: 0.8120 - val_loss: 0.2822 - val_accuracy: 0.9237\n",
            "Epoch 153/1000\n",
            "24/29 [=======================>......] - ETA: 0s - loss: 0.5165 - accuracy: 0.8167\n",
            "Epoch 153: saving model to model/keypoint_classifier\\keypoint_classifier.hdf5\n",
            "29/29 [==============================] - 0s 8ms/step - loss: 0.5229 - accuracy: 0.8139 - val_loss: 0.2782 - val_accuracy: 0.9286\n",
            "Epoch 154/1000\n",
            "22/29 [=====================>........] - ETA: 0s - loss: 0.5305 - accuracy: 0.8139\n",
            "Epoch 154: saving model to model/keypoint_classifier\\keypoint_classifier.hdf5\n",
            "29/29 [==============================] - 0s 10ms/step - loss: 0.5211 - accuracy: 0.8157 - val_loss: 0.2802 - val_accuracy: 0.9269\n",
            "Epoch 155/1000\n",
            "23/29 [======================>.......] - ETA: 0s - loss: 0.5298 - accuracy: 0.8064\n",
            "Epoch 155: saving model to model/keypoint_classifier\\keypoint_classifier.hdf5\n",
            "29/29 [==============================] - 0s 9ms/step - loss: 0.5255 - accuracy: 0.8101 - val_loss: 0.2774 - val_accuracy: 0.9286\n",
            "Epoch 156/1000\n",
            "23/29 [======================>.......] - ETA: 0s - loss: 0.5006 - accuracy: 0.8257\n",
            "Epoch 156: saving model to model/keypoint_classifier\\keypoint_classifier.hdf5\n",
            "29/29 [==============================] - 0s 10ms/step - loss: 0.5102 - accuracy: 0.8155 - val_loss: 0.2690 - val_accuracy: 0.9326\n",
            "Epoch 157/1000\n",
            "25/29 [========================>.....] - ETA: 0s - loss: 0.5200 - accuracy: 0.8081\n",
            "Epoch 157: saving model to model/keypoint_classifier\\keypoint_classifier.hdf5\n",
            "29/29 [==============================] - 0s 8ms/step - loss: 0.5188 - accuracy: 0.8117 - val_loss: 0.2710 - val_accuracy: 0.9318\n",
            "Epoch 158/1000\n",
            "25/29 [========================>.....] - ETA: 0s - loss: 0.5048 - accuracy: 0.8234\n",
            "Epoch 158: saving model to model/keypoint_classifier\\keypoint_classifier.hdf5\n",
            "29/29 [==============================] - 0s 8ms/step - loss: 0.5009 - accuracy: 0.8271 - val_loss: 0.2788 - val_accuracy: 0.9310\n",
            "Epoch 159/1000\n",
            "26/29 [=========================>....] - ETA: 0s - loss: 0.5248 - accuracy: 0.8137\n",
            "Epoch 159: saving model to model/keypoint_classifier\\keypoint_classifier.hdf5\n",
            "29/29 [==============================] - 0s 7ms/step - loss: 0.5233 - accuracy: 0.8144 - val_loss: 0.2798 - val_accuracy: 0.9253\n",
            "Epoch 160/1000\n",
            "20/29 [===================>..........] - ETA: 0s - loss: 0.5418 - accuracy: 0.8082\n",
            "Epoch 160: saving model to model/keypoint_classifier\\keypoint_classifier.hdf5\n",
            "29/29 [==============================] - 0s 5ms/step - loss: 0.5419 - accuracy: 0.8068 - val_loss: 0.2814 - val_accuracy: 0.9205\n",
            "Epoch 161/1000\n",
            "20/29 [===================>..........] - ETA: 0s - loss: 0.5224 - accuracy: 0.8047\n",
            "Epoch 161: saving model to model/keypoint_classifier\\keypoint_classifier.hdf5\n",
            "29/29 [==============================] - 0s 6ms/step - loss: 0.5303 - accuracy: 0.8084 - val_loss: 0.2785 - val_accuracy: 0.9245\n",
            "Epoch 162/1000\n",
            "25/29 [========================>.....] - ETA: 0s - loss: 0.5401 - accuracy: 0.8072\n",
            "Epoch 162: saving model to model/keypoint_classifier\\keypoint_classifier.hdf5\n",
            "29/29 [==============================] - 0s 8ms/step - loss: 0.5378 - accuracy: 0.8079 - val_loss: 0.2785 - val_accuracy: 0.9286\n",
            "Epoch 163/1000\n",
            "12/29 [===========>..................] - ETA: 0s - loss: 0.4785 - accuracy: 0.8327\n",
            "Epoch 163: saving model to model/keypoint_classifier\\keypoint_classifier.hdf5\n",
            "29/29 [==============================] - 0s 7ms/step - loss: 0.5142 - accuracy: 0.8201 - val_loss: 0.2755 - val_accuracy: 0.9334\n",
            "Epoch 164/1000\n",
            "16/29 [===============>..............] - ETA: 0s - loss: 0.5420 - accuracy: 0.8110\n",
            "Epoch 164: saving model to model/keypoint_classifier\\keypoint_classifier.hdf5\n",
            "29/29 [==============================] - 0s 8ms/step - loss: 0.5177 - accuracy: 0.8136 - val_loss: 0.2756 - val_accuracy: 0.9318\n",
            "Epoch 165/1000\n",
            "20/29 [===================>..........] - ETA: 0s - loss: 0.5148 - accuracy: 0.8250\n",
            "Epoch 165: saving model to model/keypoint_classifier\\keypoint_classifier.hdf5\n",
            "29/29 [==============================] - 0s 7ms/step - loss: 0.5279 - accuracy: 0.8144 - val_loss: 0.2840 - val_accuracy: 0.9245\n",
            "Epoch 166/1000\n",
            "13/29 [============>.................] - ETA: 0s - loss: 0.5100 - accuracy: 0.8179\n",
            "Epoch 166: saving model to model/keypoint_classifier\\keypoint_classifier.hdf5\n",
            "29/29 [==============================] - 0s 7ms/step - loss: 0.5167 - accuracy: 0.8157 - val_loss: 0.2850 - val_accuracy: 0.9286\n",
            "Epoch 167/1000\n",
            "23/29 [======================>.......] - ETA: 0s - loss: 0.5241 - accuracy: 0.8050\n",
            "Epoch 167: saving model to model/keypoint_classifier\\keypoint_classifier.hdf5\n",
            "29/29 [==============================] - 0s 9ms/step - loss: 0.5113 - accuracy: 0.8125 - val_loss: 0.2717 - val_accuracy: 0.9286\n",
            "Epoch 168/1000\n",
            "25/29 [========================>.....] - ETA: 0s - loss: 0.5043 - accuracy: 0.8166\n",
            "Epoch 168: saving model to model/keypoint_classifier\\keypoint_classifier.hdf5\n",
            "29/29 [==============================] - 0s 9ms/step - loss: 0.5110 - accuracy: 0.8155 - val_loss: 0.2695 - val_accuracy: 0.9310\n",
            "Epoch 169/1000\n",
            "24/29 [=======================>......] - ETA: 0s - loss: 0.5202 - accuracy: 0.8219\n",
            "Epoch 169: saving model to model/keypoint_classifier\\keypoint_classifier.hdf5\n",
            "29/29 [==============================] - 0s 8ms/step - loss: 0.5187 - accuracy: 0.8203 - val_loss: 0.2727 - val_accuracy: 0.9326\n",
            "Epoch 170/1000\n",
            "20/29 [===================>..........] - ETA: 0s - loss: 0.5211 - accuracy: 0.8168\n",
            "Epoch 170: saving model to model/keypoint_classifier\\keypoint_classifier.hdf5\n",
            "29/29 [==============================] - 0s 5ms/step - loss: 0.5267 - accuracy: 0.8098 - val_loss: 0.2764 - val_accuracy: 0.9302\n",
            "Epoch 171/1000\n",
            "20/29 [===================>..........] - ETA: 0s - loss: 0.5235 - accuracy: 0.8125\n",
            "Epoch 171: saving model to model/keypoint_classifier\\keypoint_classifier.hdf5\n",
            "29/29 [==============================] - 0s 6ms/step - loss: 0.5166 - accuracy: 0.8128 - val_loss: 0.2742 - val_accuracy: 0.9278\n",
            "Epoch 172/1000\n",
            "23/29 [======================>.......] - ETA: 0s - loss: 0.5052 - accuracy: 0.8237\n",
            "Epoch 172: saving model to model/keypoint_classifier\\keypoint_classifier.hdf5\n",
            "29/29 [==============================] - 0s 9ms/step - loss: 0.5018 - accuracy: 0.8217 - val_loss: 0.2710 - val_accuracy: 0.9302\n",
            "Epoch 173/1000\n",
            "20/29 [===================>..........] - ETA: 0s - loss: 0.5278 - accuracy: 0.8113\n",
            "Epoch 173: saving model to model/keypoint_classifier\\keypoint_classifier.hdf5\n",
            "29/29 [==============================] - 0s 8ms/step - loss: 0.5349 - accuracy: 0.8093 - val_loss: 0.2719 - val_accuracy: 0.9261\n",
            "Epoch 174/1000\n",
            "18/29 [=================>............] - ETA: 0s - loss: 0.4973 - accuracy: 0.8247\n",
            "Epoch 174: saving model to model/keypoint_classifier\\keypoint_classifier.hdf5\n",
            "29/29 [==============================] - 0s 8ms/step - loss: 0.4983 - accuracy: 0.8220 - val_loss: 0.2692 - val_accuracy: 0.9367\n",
            "Epoch 175/1000\n",
            "28/29 [===========================>..] - ETA: 0s - loss: 0.5027 - accuracy: 0.8217\n",
            "Epoch 175: saving model to model/keypoint_classifier\\keypoint_classifier.hdf5\n",
            "29/29 [==============================] - 0s 7ms/step - loss: 0.4977 - accuracy: 0.8241 - val_loss: 0.2720 - val_accuracy: 0.9269\n",
            "Epoch 176/1000\n",
            "16/29 [===============>..............] - ETA: 0s - loss: 0.5030 - accuracy: 0.8203\n",
            "Epoch 176: saving model to model/keypoint_classifier\\keypoint_classifier.hdf5\n",
            "29/29 [==============================] - 0s 6ms/step - loss: 0.5201 - accuracy: 0.8117 - val_loss: 0.2714 - val_accuracy: 0.9302\n",
            "Epoch 176: early stopping\n"
          ]
        },
        {
          "data": {
            "text/plain": [
              "<keras.callbacks.History at 0x25827979e40>"
            ]
          },
          "execution_count": 34,
          "metadata": {},
          "output_type": "execute_result"
        }
      ],
      "source": [
        "model.fit(\n",
        "    X_train,\n",
        "    y_train,\n",
        "    epochs=1000,\n",
        "    batch_size=128,\n",
        "    validation_data=(X_test, y_test),\n",
        "    callbacks=[cp_callback, es_callback]\n",
        ")"
      ]
    },
    {
      "cell_type": "code",
      "execution_count": 35,
      "metadata": {
        "colab": {
          "base_uri": "https://localhost:8080/"
        },
        "id": "pxvb2Y299hE3",
        "outputId": "59eb3185-2e37-4b9e-bc9d-ab1b8ac29b7f"
      },
      "outputs": [
        {
          "name": "stdout",
          "output_type": "stream",
          "text": [
            "10/10 [==============================] - 0s 2ms/step - loss: 0.2714 - accuracy: 0.9302\n"
          ]
        }
      ],
      "source": [
        "# Model evaluation\n",
        "val_loss, val_acc = model.evaluate(X_test, y_test, batch_size=128)"
      ]
    },
    {
      "cell_type": "code",
      "execution_count": 36,
      "metadata": {
        "id": "RBkmDeUW9hE4"
      },
      "outputs": [],
      "source": [
        "# Loading the saved model\n",
        "model = tf.keras.models.load_model(model_save_path)"
      ]
    },
    {
      "cell_type": "code",
      "execution_count": 37,
      "metadata": {
        "colab": {
          "base_uri": "https://localhost:8080/"
        },
        "id": "tFz9Tb0I9hE4",
        "outputId": "1c3b3528-54ae-4ee2-ab04-77429211cbef"
      },
      "outputs": [
        {
          "name": "stdout",
          "output_type": "stream",
          "text": [
            "1/1 [==============================] - 0s 71ms/step\n",
            "[2.5345394e-03 9.1791314e-01 7.7133223e-02 1.2211366e-04 2.2970096e-03]\n",
            "1\n"
          ]
        }
      ],
      "source": [
        "# Inference test\n",
        "predict_result = model.predict(np.array([X_test[0]]))\n",
        "print(np.squeeze(predict_result))\n",
        "print(np.argmax(np.squeeze(predict_result)))"
      ]
    },
    {
      "cell_type": "markdown",
      "metadata": {
        "id": "S3U4yNWx9hE4"
      },
      "source": [
        "# Confusion matrix"
      ]
    },
    {
      "cell_type": "code",
      "execution_count": 38,
      "metadata": {
        "colab": {
          "base_uri": "https://localhost:8080/",
          "height": 582
        },
        "id": "AP1V6SCk9hE5",
        "outputId": "08e41a80-7a4a-4619-8125-ecc371368d19"
      },
      "outputs": [
        {
          "name": "stdout",
          "output_type": "stream",
          "text": [
            "39/39 [==============================] - 0s 1ms/step\n"
          ]
        },
        {
          "data": {
            "image/png": "[encoded data removed]",
            "text/plain": [
              "<Figure size 700x600 with 2 Axes>"
            ]
          },
          "metadata": {},
          "output_type": "display_data"
        },
        {
          "name": "stdout",
          "output_type": "stream",
          "text": [
            "Classification Report\n",
            "              precision    recall  f1-score   support\n",
            "\n",
            "           0       0.97      0.99      0.98       400\n",
            "           1       0.91      0.91      0.91       370\n",
            "           2       0.90      0.97      0.94       333\n",
            "           3       0.97      0.98      0.97        86\n",
            "           4       1.00      0.14      0.24        43\n",
            "\n",
            "    accuracy                           0.93      1232\n",
            "   macro avg       0.95      0.80      0.81      1232\n",
            "weighted avg       0.93      0.93      0.92      1232\n",
            "\n"
          ]
        }
      ],
      "source": [
        "import pandas as pd\n",
        "import seaborn as sns\n",
        "import matplotlib.pyplot as plt\n",
        "from sklearn.metrics import confusion_matrix, classification_report\n",
        "\n",
        "def print_confusion_matrix(y_true, y_pred, report=True):\n",
        "    labels = sorted(list(set(y_true)))\n",
        "    cmx_data = confusion_matrix(y_true, y_pred, labels=labels)\n",
        "    \n",
        "    df_cmx = pd.DataFrame(cmx_data, index=labels, columns=labels)\n",
        " \n",
        "    fig, ax = plt.subplots(figsize=(7, 6))\n",
        "    sns.heatmap(df_cmx, annot=True, fmt='g' ,square=False)\n",
        "    ax.set_ylim(len(set(y_true)), 0)\n",
        "    plt.show()\n",
        "    \n",
        "    if report:\n",
        "        print('Classification Report')\n",
        "        print(classification_report(y_test, y_pred))\n",
        "\n",
        "Y_pred = model.predict(X_test)\n",
        "y_pred = np.argmax(Y_pred, axis=1)\n",
        "\n",
        "print_confusion_matrix(y_test, y_pred)"
      ]
    },
    {
      "cell_type": "markdown",
      "metadata": {
        "id": "FNP6aqzc9hE5"
      },
      "source": [
        "# Convert to model for Tensorflow-Lite"
      ]
    },
    {
      "cell_type": "code",
      "execution_count": 39,
      "metadata": {
        "id": "ODjnYyld9hE6"
      },
      "outputs": [],
      "source": [
        "# Save as a model dedicated to inference\n",
        "model.save(model_save_path, include_optimizer=False)"
      ]
    },
    {
      "cell_type": "code",
      "execution_count": 40,
      "metadata": {
        "colab": {
          "base_uri": "https://localhost:8080/"
        },
        "id": "zRfuK8Y59hE6",
        "outputId": "a4ca585c-b5d5-4244-8291-8674063209bb"
      },
      "outputs": [
        {
          "name": "stdout",
          "output_type": "stream",
          "text": [
            "INFO:tensorflow:Assets written to: C:\\Users\\Hardik\\AppData\\Local\\Temp\\tmpzniaje_s\\assets\n"
          ]
        },
        {
          "name": "stderr",
          "output_type": "stream",
          "text": [
            "INFO:tensorflow:Assets written to: C:\\Users\\Hardik\\AppData\\Local\\Temp\\tmpzniaje_s\\assets\n"
          ]
        },
        {
          "data": {
            "text/plain": [
              "6616"
            ]
          },
          "execution_count": 40,
          "metadata": {},
          "output_type": "execute_result"
        }
      ],
      "source": [
        "# Transform model (quantization)\n",
        "\n",
        "converter = tf.lite.TFLiteConverter.from_keras_model(model)\n",
        "converter.optimizations = [tf.lite.Optimize.DEFAULT]\n",
        "tflite_quantized_model = converter.convert()\n",
        "\n",
        "open(tflite_save_path, 'wb').write(tflite_quantized_model)"
      ]
    },
    {
      "cell_type": "markdown",
      "metadata": {
        "id": "CHBPBXdx9hE6"
      },
      "source": [
        "# Inference test"
      ]
    },
    {
      "cell_type": "code",
      "execution_count": 41,
      "metadata": {
        "id": "mGAzLocO9hE7"
      },
      "outputs": [],
      "source": [
        "interpreter = tf.lite.Interpreter(model_path=tflite_save_path)\n",
        "interpreter.allocate_tensors()"
      ]
    },
    {
      "cell_type": "code",
      "execution_count": 42,
      "metadata": {
        "id": "oQuDK8YS9hE7"
      },
      "outputs": [],
      "source": [
        "# Get I / O tensor\n",
        "input_details = interpreter.get_input_details()\n",
        "output_details = interpreter.get_output_details()"
      ]
    },
    {
      "cell_type": "code",
      "execution_count": 43,
      "metadata": {
        "id": "2_ixAf_l9hE7"
      },
      "outputs": [],
      "source": [
        "interpreter.set_tensor(input_details[0]['index'], np.array([X_test[0]]))"
      ]
    },
    {
      "cell_type": "code",
      "execution_count": 44,
      "metadata": {
        "colab": {
          "base_uri": "https://localhost:8080/"
        },
        "id": "s4FoAnuc9hE7",
        "outputId": "91f18257-8d8b-4ef3-c558-e9b5f94fabbf",
        "scrolled": true
      },
      "outputs": [
        {
          "name": "stdout",
          "output_type": "stream",
          "text": [
            "CPU times: total: 0 ns\n",
            "Wall time: 0 ns\n"
          ]
        }
      ],
      "source": [
        "%%time\n",
        "# Inference implementation\n",
        "interpreter.invoke()\n",
        "tflite_results = interpreter.get_tensor(output_details[0]['index'])"
      ]
    },
    {
      "cell_type": "code",
      "execution_count": 45,
      "metadata": {
        "colab": {
          "base_uri": "https://localhost:8080/"
        },
        "id": "vONjp19J9hE8",
        "outputId": "77205e24-fd00-42c4-f7b6-e06e527c2cba"
      },
      "outputs": [
        {
          "name": "stdout",
          "output_type": "stream",
          "text": [
            "[2.5345406e-03 9.1791314e-01 7.7133171e-02 1.2211342e-04 2.2970105e-03]\n",
            "1\n"
          ]
        }
      ],
      "source": [
        "print(np.squeeze(tflite_results))\n",
        "print(np.argmax(np.squeeze(tflite_results)))"
      ]
    }
  ],
  "metadata": {
    "accelerator": "GPU",
    "colab": {
      "collapsed_sections": [],
      "name": "keypoint_classification_EN.ipynb",
      "provenance": [],
      "toc_visible": true
    },
    "kernelspec": {
      "display_name": "Python 3.10.6 64-bit",
      "language": "python",
      "name": "python3"
    },
    "language_info": {
      "codemirror_mode": {
        "name": "ipython",
        "version": 3
      },
      "file_extension": ".py",
      "mimetype": "text/x-python",
      "name": "python",
      "nbconvert_exporter": "python",
      "pygments_lexer": "ipython3",
      "version": "3.10.6"
    },
    "vscode": {
      "interpreter": {
        "hash": "de3cc1a36ba495e2adf33e9c8117b33efffb1d931db264a173c0f73896809e12"
      }
    }
  },
  "nbformat": 4,
  "nbformat_minor": 0
}
