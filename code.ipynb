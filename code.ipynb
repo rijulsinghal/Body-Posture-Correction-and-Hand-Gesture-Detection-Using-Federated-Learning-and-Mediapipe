{
 "cells": [
  {
   "cell_type": "code",
   "execution_count": 8,
   "metadata": {},
   "outputs": [
    {
     "name": "stdout",
     "output_type": "stream",
     "text": [
      "Requirement already satisfied: mediapipe in c:\\python310\\lib\\site-packages (0.8.10.1)Note: you may need to restart the kernel to use updated packages.\n",
      "\n",
      "Requirement already satisfied: absl-py in c:\\python310\\lib\\site-packages (from mediapipe) (1.2.0)\n",
      "Requirement already satisfied: protobuf<4,>=3.11 in c:\\python310\\lib\\site-packages (from mediapipe) (3.19.1)\n",
      "Requirement already satisfied: matplotlib in c:\\python310\\lib\\site-packages (from mediapipe) (3.5.3)\n",
      "Requirement already satisfied: opencv-contrib-python in c:\\python310\\lib\\site-packages (from mediapipe) (4.6.0.66)\n",
      "Requirement already satisfied: attrs>=19.1.0 in c:\\users\\hp\\appdata\\roaming\\python\\python310\\site-packages (from mediapipe) (22.1.0)\n",
      "Requirement already satisfied: numpy in c:\\python310\\lib\\site-packages (from mediapipe) (1.23.1)\n",
      "Requirement already satisfied: python-dateutil>=2.7 in c:\\python310\\lib\\site-packages (from matplotlib->mediapipe) (2.8.2)\n",
      "Requirement already satisfied: pillow>=6.2.0 in c:\\python310\\lib\\site-packages (from matplotlib->mediapipe) (9.2.0)\n",
      "Requirement already satisfied: kiwisolver>=1.0.1 in c:\\python310\\lib\\site-packages (from matplotlib->mediapipe) (1.4.4)\n",
      "Requirement already satisfied: pyparsing>=2.2.1 in c:\\python310\\lib\\site-packages (from matplotlib->mediapipe) (3.0.6)\n",
      "Requirement already satisfied: cycler>=0.10 in c:\\python310\\lib\\site-packages (from matplotlib->mediapipe) (0.11.0)\n",
      "Requirement already satisfied: fonttools>=4.22.0 in c:\\python310\\lib\\site-packages (from matplotlib->mediapipe) (4.36.0)\n",
      "Requirement already satisfied: packaging>=20.0 in c:\\users\\hp\\appdata\\roaming\\python\\python310\\site-packages (from matplotlib->mediapipe) (21.3)\n",
      "Requirement already satisfied: six>=1.5 in c:\\python310\\lib\\site-packages (from python-dateutil>=2.7->matplotlib->mediapipe) (1.16.0)\n"
     ]
    },
    {
     "name": "stderr",
     "output_type": "stream",
     "text": [
      "WARNING: Ignoring invalid distribution -p (c:\\python310\\lib\\site-packages)\n",
      "WARNING: Ignoring invalid distribution -ip (c:\\python310\\lib\\site-packages)\n",
      "WARNING: Ignoring invalid distribution - (c:\\python310\\lib\\site-packages)\n",
      "WARNING: Ignoring invalid distribution -p (c:\\python310\\lib\\site-packages)\n",
      "WARNING: Ignoring invalid distribution -ip (c:\\python310\\lib\\site-packages)\n",
      "WARNING: Ignoring invalid distribution - (c:\\python310\\lib\\site-packages)\n",
      "WARNING: Ignoring invalid distribution -p (c:\\python310\\lib\\site-packages)\n",
      "WARNING: Ignoring invalid distribution -ip (c:\\python310\\lib\\site-packages)\n",
      "WARNING: Ignoring invalid distribution - (c:\\python310\\lib\\site-packages)\n",
      "WARNING: Ignoring invalid distribution -p (c:\\python310\\lib\\site-packages)\n",
      "WARNING: Ignoring invalid distribution -ip (c:\\python310\\lib\\site-packages)\n",
      "WARNING: Ignoring invalid distribution - (c:\\python310\\lib\\site-packages)\n",
      "\n",
      "[notice] A new release of pip available: 22.2.1 -> 22.2.2\n",
      "[notice] To update, run: python.exe -m pip install --upgrade pip\n"
     ]
    },
    {
     "name": "stdout",
     "output_type": "stream",
     "text": [
      "Note: you may need to restart the kernel to use updated packages.\n"
     ]
    },
    {
     "name": "stderr",
     "output_type": "stream",
     "text": [
      "WARNING: Ignoring invalid distribution -p (c:\\python310\\lib\\site-packages)\n",
      "WARNING: Ignoring invalid distribution -ip (c:\\python310\\lib\\site-packages)\n",
      "WARNING: Ignoring invalid distribution - (c:\\python310\\lib\\site-packages)\n",
      "WARNING: Ignoring invalid distribution -p (c:\\python310\\lib\\site-packages)\n",
      "WARNING: Ignoring invalid distribution -ip (c:\\python310\\lib\\site-packages)\n",
      "WARNING: Ignoring invalid distribution - (c:\\python310\\lib\\site-packages)\n",
      "ERROR: Could not find a version that satisfies the requirement cv2 (from versions: none)\n",
      "ERROR: No matching distribution found for cv2\n",
      "WARNING: Ignoring invalid distribution -p (c:\\python310\\lib\\site-packages)\n",
      "WARNING: Ignoring invalid distribution -ip (c:\\python310\\lib\\site-packages)\n",
      "WARNING: Ignoring invalid distribution - (c:\\python310\\lib\\site-packages)\n",
      "\n",
      "[notice] A new release of pip available: 22.2.1 -> 22.2.2\n",
      "[notice] To update, run: python.exe -m pip install --upgrade pip\n"
     ]
    }
   ],
   "source": [
    "%pip install mediapipe\n",
    "%pip install cv2"
   ]
  },
  {
   "cell_type": "code",
   "execution_count": 29,
   "metadata": {},
   "outputs": [],
   "source": [
    "import numpy as np\n",
    "import mediapipe as mp\n",
    "import glob\n",
    "import cv2"
   ]
  },
  {
   "cell_type": "code",
   "execution_count": 4,
   "metadata": {},
   "outputs": [],
   "source": [
    "mp_drawing = mp.solutions.drawing_utils\n",
    "mp_pose = mp.solutions.pose"
   ]
  },
  {
   "cell_type": "code",
   "execution_count": 150,
   "metadata": {},
   "outputs": [],
   "source": [
    "from logging import exception\n",
    "import re\n",
    "\n",
    "\n",
    "def medpipe(frame):\n",
    "    ## Setup mediapipe instance\n",
    "\n",
    "    with mp_pose.Pose(min_detection_confidence=0.5, min_tracking_confidence=0.5) as pose:\n",
    "        image = cv2.imread(frame,0)\n",
    "        height, width = image.shape[:2] #getting the shape of the image.\n",
    "        # Recolor image to RGB\n",
    "        image = cv2.cvtColor(image, cv2.COLOR_BGR2RGB)\n",
    "        image.flags.writeable = False\n",
    "\n",
    "        # Make detection\n",
    "        results = pose.process(image)\n",
    "        if results.pose_landmarks is None:\n",
    "            return []\n",
    "        landmarks = results.pose_landmarks.landmark\n",
    "        return landmarks"
   ]
  },
  {
   "cell_type": "code",
   "execution_count": 116,
   "metadata": {},
   "outputs": [],
   "source": [
    "def loadimages(path):\n",
    "    images = []\n",
    "    for img in glob.glob(path):\n",
    "        images.append(img)\n",
    "    return images\n"
   ]
  },
  {
   "cell_type": "code",
   "execution_count": 159,
   "metadata": {},
   "outputs": [],
   "source": [
    "from asyncio.windows_events import NULL\n",
    "from logging import exception\n",
    "\n",
    "\n",
    "def getlandmarks(images,label):\n",
    "    landmarks_matrix = []\n",
    "    for img in images:\n",
    "        landmarks = medpipe(img)\n",
    "        if(len(landmarks) == 0):\n",
    "            continue\n",
    "        temp1 = []\n",
    "        for i in range(0,len(landmarks)):\n",
    "            temp = []\n",
    "            temp.append([landmarks[i].x,landmarks[i].y,landmarks[i].z,landmarks[i].visibility])\n",
    "            temp1.append(temp)\n",
    "        landmarks_matrix.append([temp1,label])  \n",
    "\n",
    "    return landmarks_matrix"
   ]
  },
  {
   "cell_type": "code",
   "execution_count": null,
   "metadata": {},
   "outputs": [],
   "source": []
  },
  {
   "cell_type": "code",
   "execution_count": 156,
   "metadata": {},
   "outputs": [],
   "source": [
    "images = loadimages('Dataset/Yoga-Dataset/DATASET/TRAIN/downdog/*')\n",
    "images1 = loadimages('Dataset/Yoga-Dataset/DATASET/TRAIN/goddess/*')\n",
    "images2 = loadimages('Dataset/Yoga-Dataset/DATASET/TRAIN/plank/*')\n",
    "images3 = loadimages('Dataset/Yoga-Dataset/DATASET/TRAIN/tree/*')\n",
    "images4 = loadimages('Dataset/Yoga-Dataset/DATASET/TRAIN/warrior2/*')\n"
   ]
  },
  {
   "cell_type": "code",
   "execution_count": 160,
   "metadata": {},
   "outputs": [
    {
     "name": "stdout",
     "output_type": "stream",
     "text": [
      "5\n"
     ]
    }
   ],
   "source": [
    "train_matrix = []\n",
    "train_matrix.append(getlandmarks(images,0))\n",
    "train_matrix.append(getlandmarks(images1,1))\n",
    "train_matrix.append(getlandmarks(images2,2))\n",
    "train_matrix.append(getlandmarks(images3,3))\n",
    "train_matrix.append(getlandmarks(images4,4))\n",
    "print(len(train_matrix))"
   ]
  }
 ],
 "metadata": {
  "kernelspec": {
   "display_name": "Python 3.10.5 64-bit",
   "language": "python",
   "name": "python3"
  },
  "language_info": {
   "codemirror_mode": {
    "name": "ipython",
    "version": 3
   },
   "file_extension": ".py",
   "mimetype": "text/x-python",
   "name": "python",
   "nbconvert_exporter": "python",
   "pygments_lexer": "ipython3",
   "version": "3.10.5"
  },
  "orig_nbformat": 4,
  "vscode": {
   "interpreter": {
    "hash": "369f2c481f4da34e4445cda3fffd2e751bd1c4d706f27375911949ba6bb62e1c"
   }
  }
 },
 "nbformat": 4,
 "nbformat_minor": 2
}
